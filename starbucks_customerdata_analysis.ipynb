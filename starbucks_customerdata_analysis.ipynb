{
  "cells": [
    {
      "cell_type": "code",
      "execution_count": null,
      "metadata": {
        "datalore": {
          "hide_input_from_viewers": false,
          "hide_output_from_viewers": false,
          "node_id": "RVLDJdCYys3ywnDMGTX2Zr",
          "report_properties": {},
          "type": "CODE"
        },
        "id": "GSkmhH3ebPd1"
      },
      "outputs": [],
      "source": [
        "import numpy as np\n",
        "import pandas as pd\n",
        "import datetime as dt\n",
        "import matplotlib.pyplot as plt\n",
        "import seaborn as sns\n",
        "%matplotlib inline\n",
        "import re\n",
        "from sklearn import linear_model\n",
        "from sklearn.cluster import KMeans\n",
        "#! pip install mlxtend\n",
        "from mlxtend.preprocessing import TransactionEncoder\n",
        "from mlxtend.frequent_patterns import apriori\n",
        "from mlxtend.frequent_patterns import association_rules\n",
        "\n",
        "from sklearn.cluster import KMeans\n",
        "import scipy.spatial as spatial\n",
        "import random\n",
        "\n"
      ]
    },
    {
      "cell_type": "code",
      "execution_count": null,
      "metadata": {
        "datalore": {
          "hide_input_from_viewers": false,
          "hide_output_from_viewers": false,
          "node_id": "UB2l90418XgXNIYtNIL8hR",
          "report_properties": {},
          "type": "CODE"
        },
        "id": "cQP-XcEAbPd3"
      },
      "outputs": [],
      "source": [
        "#Data source:https://www.kaggle.com/datasets/ihormuliar/starbucks-customer-data?select=profile.csv"
      ]
    },
    {
      "cell_type": "markdown",
      "metadata": {
        "datalore": {
          "hide_input_from_viewers": false,
          "hide_output_from_viewers": false,
          "node_id": "MNyq9E5vRtaoK02hbxd9ko",
          "report_properties": {},
          "type": "MD"
        },
        "id": "1E20mHkrbPd4"
      },
      "source": [
        "# Data processing"
      ]
    },
    {
      "cell_type": "code",
      "execution_count": null,
      "metadata": {
        "datalore": {
          "hide_input_from_viewers": false,
          "hide_output_from_viewers": false,
          "node_id": "KDBBR1iGm25tMyksJ52f5I",
          "report_properties": {},
          "type": "CODE"
        },
        "id": "CWV7_ut4bPd4"
      },
      "outputs": [],
      "source": [
        "#data includes user id, event, offer identifier and time to use (describes events)\n",
        "data = pd.read_csv(\"transcript.csv\")\n",
        "data = data.set_index('Unnamed: 0')"
      ]
    },
    {
      "cell_type": "code",
      "execution_count": null,
      "metadata": {
        "datalore": {
          "hide_input_from_viewers": false,
          "hide_output_from_viewers": false,
          "node_id": "AqnBo3zm8Dttk0PyrVr312",
          "report_properties": {},
          "type": "CODE"
        },
        "id": "QjX0S4RQbPd5"
      },
      "outputs": [],
      "source": [
        "def extract_offer_id(s):\n",
        "    offer_id_regex = r\"id':\\s*'([a-zA-Z0-9]*)'\"\n",
        "\n",
        "    offer_id_result = re.search(offer_id_regex, s)\n",
        "\n",
        "    if offer_id_result:\n",
        "        return offer_id_result.group(1)\n",
        "\n",
        "\n",
        "def extract_amount(s):\n",
        "    amount_regex = r\"unt':\\s*([\\.0-9]*)\"\n",
        "\n",
        "    amount_result = re.search(amount_regex, s)\n",
        "\n",
        "    if amount_result:\n",
        "        return amount_result.group(1)\n",
        "\n",
        "def extract_reward(s):\n",
        "    reward_regex = r\"ard':\\s*([\\.0-9]*)\"\n",
        "\n",
        "    reward_result = re.search(reward_regex, s)\n",
        "\n",
        "    if reward_result:\n",
        "        return reward_result.group(1)\n",
        "\n",
        "data['offer_id'] = data['value'].apply(lambda x : extract_offer_id(x))\n",
        "data['amount'] = data['value'].apply(lambda x : extract_amount(x))\n",
        "data['reward'] = data['value'].apply(lambda x : extract_reward(x))\n",
        "\n",
        "del data['value']"
      ]
    },
    {
      "cell_type": "code",
      "execution_count": null,
      "metadata": {
        "datalore": {
          "hide_input_from_viewers": false,
          "hide_output_from_viewers": false,
          "node_id": "SR2qRqnZMofhUpnri9q2Ft",
          "report_properties": {},
          "type": "CODE"
        },
        "id": "uR_qQazvbPd5"
      },
      "outputs": [],
      "source": [
        "#portfolio (information about the offers)\n",
        "portfolio = pd.read_csv(\"portfolio.csv\")\n",
        "portfolio = portfolio.drop('Unnamed: 0',axis=1).set_index('id')\n",
        "del portfolio['reward'] #repeated in transcript"
      ]
    },
    {
      "cell_type": "code",
      "execution_count": null,
      "metadata": {
        "datalore": {
          "hide_input_from_viewers": false,
          "hide_output_from_viewers": false,
          "node_id": "eZhn0qultvhSJRTZXDUaVF",
          "report_properties": {},
          "type": "CODE"
        },
        "id": "UPAU2ehGbPd5"
      },
      "outputs": [],
      "source": [
        "#profiles (describe the customers)\n",
        "profiles = pd.read_csv(\"profile.csv\")\n",
        "profiles = profiles.drop('Unnamed: 0',axis=1).set_index('id')\n",
        "profiles['became_member_on'] = pd.to_datetime(profiles['became_member_on'],format='%Y%m%d')\n",
        "#age 118 is repeating 2175 times and seems to be a mistake, we drop these customers\n",
        "profiles = profiles[profiles['age']!=118]"
      ]
    },
    {
      "cell_type": "code",
      "execution_count": null,
      "metadata": {
        "datalore": {
          "hide_input_from_viewers": false,
          "hide_output_from_viewers": false,
          "node_id": "asfn5F3jtpC8gnlXkpsTaR",
          "report_properties": {},
          "type": "CODE"
        },
        "id": "SV7FHKd9bPd5"
      },
      "outputs": [],
      "source": [
        "#merge all the tables to data for further analysis\n",
        "df = pd.merge(data, portfolio, left_on='offer_id', right_index=True,how='left')\n",
        "df = pd.merge(df, profiles, left_on='person', right_index=True,how='right')"
      ]
    },
    {
      "cell_type": "code",
      "execution_count": null,
      "metadata": {
        "datalore": {
          "hide_input_from_viewers": false,
          "hide_output_from_viewers": false,
          "node_id": "mo0zVy1Fk5dB9yriSs7ms4",
          "report_properties": {},
          "type": "CODE"
        },
        "id": "KKeUGrDUbPd6"
      },
      "outputs": [],
      "source": [
        "data_types_dict = {'reward':float,'amount':float}\n",
        "df = df.astype(data_types_dict)\n",
        "df[['reward','amount','difficulty','duration']] = df[['reward','amount','difficulty','duration']].fillna(0)"
      ]
    },
    {
      "cell_type": "code",
      "execution_count": null,
      "metadata": {
        "datalore": {
          "hide_input_from_viewers": false,
          "hide_output_from_viewers": false,
          "node_id": "7oORWZY3tZdjYcExcgpfR5",
          "report_properties": {},
          "type": "CODE"
        },
        "id": "8E0gfsLUbPd6",
        "outputId": "189a1ee9-0b93-4af0-a2f8-c378af54b3ba"
      },
      "outputs": [
        {
          "data": {
            "text/html": [
              "<div>\n",
              "<style scoped>\n",
              "    .dataframe tbody tr th:only-of-type {\n",
              "        vertical-align: middle;\n",
              "    }\n",
              "\n",
              "    .dataframe tbody tr th {\n",
              "        vertical-align: top;\n",
              "    }\n",
              "\n",
              "    .dataframe thead th {\n",
              "        text-align: right;\n",
              "    }\n",
              "</style>\n",
              "<table border=\"1\" class=\"dataframe\">\n",
              "  <thead>\n",
              "    <tr style=\"text-align: right;\">\n",
              "      <th></th>\n",
              "      <th>person</th>\n",
              "      <th>event</th>\n",
              "      <th>time</th>\n",
              "      <th>offer_id</th>\n",
              "      <th>amount</th>\n",
              "      <th>reward</th>\n",
              "      <th>channels</th>\n",
              "      <th>difficulty</th>\n",
              "      <th>duration</th>\n",
              "      <th>offer_type</th>\n",
              "      <th>gender</th>\n",
              "      <th>age</th>\n",
              "      <th>became_member_on</th>\n",
              "      <th>income</th>\n",
              "    </tr>\n",
              "    <tr>\n",
              "      <th>Unnamed: 0</th>\n",
              "      <th></th>\n",
              "      <th></th>\n",
              "      <th></th>\n",
              "      <th></th>\n",
              "      <th></th>\n",
              "      <th></th>\n",
              "      <th></th>\n",
              "      <th></th>\n",
              "      <th></th>\n",
              "      <th></th>\n",
              "      <th></th>\n",
              "      <th></th>\n",
              "      <th></th>\n",
              "      <th></th>\n",
              "    </tr>\n",
              "  </thead>\n",
              "  <tbody>\n",
              "    <tr>\n",
              "      <th>20282</th>\n",
              "      <td>0610b486422d4921ae7d2bf64640c50b</td>\n",
              "      <td>transaction</td>\n",
              "      <td>18</td>\n",
              "      <td>None</td>\n",
              "      <td>21.51</td>\n",
              "      <td>0.0</td>\n",
              "      <td>NaN</td>\n",
              "      <td>0.0</td>\n",
              "      <td>0.0</td>\n",
              "      <td>NaN</td>\n",
              "      <td>F</td>\n",
              "      <td>55</td>\n",
              "      <td>2017-07-15</td>\n",
              "      <td>112000.0</td>\n",
              "    </tr>\n",
              "    <tr>\n",
              "      <th>49501</th>\n",
              "      <td>0610b486422d4921ae7d2bf64640c50b</td>\n",
              "      <td>transaction</td>\n",
              "      <td>144</td>\n",
              "      <td>None</td>\n",
              "      <td>32.28</td>\n",
              "      <td>0.0</td>\n",
              "      <td>NaN</td>\n",
              "      <td>0.0</td>\n",
              "      <td>0.0</td>\n",
              "      <td>NaN</td>\n",
              "      <td>F</td>\n",
              "      <td>55</td>\n",
              "      <td>2017-07-15</td>\n",
              "      <td>112000.0</td>\n",
              "    </tr>\n",
              "    <tr>\n",
              "      <th>150597</th>\n",
              "      <td>0610b486422d4921ae7d2bf64640c50b</td>\n",
              "      <td>offer received</td>\n",
              "      <td>408</td>\n",
              "      <td>9b98b8c7a33c4b65b9aebfe6a799e6d9</td>\n",
              "      <td>0.00</td>\n",
              "      <td>0.0</td>\n",
              "      <td>['web', 'email', 'mobile']</td>\n",
              "      <td>5.0</td>\n",
              "      <td>7.0</td>\n",
              "      <td>bogo</td>\n",
              "      <td>F</td>\n",
              "      <td>55</td>\n",
              "      <td>2017-07-15</td>\n",
              "      <td>112000.0</td>\n",
              "    </tr>\n",
              "    <tr>\n",
              "      <th>201571</th>\n",
              "      <td>0610b486422d4921ae7d2bf64640c50b</td>\n",
              "      <td>offer received</td>\n",
              "      <td>504</td>\n",
              "      <td>3f207df678b143eea3cee63160fa8bed</td>\n",
              "      <td>0.00</td>\n",
              "      <td>0.0</td>\n",
              "      <td>['web', 'email', 'mobile']</td>\n",
              "      <td>0.0</td>\n",
              "      <td>4.0</td>\n",
              "      <td>informational</td>\n",
              "      <td>F</td>\n",
              "      <td>55</td>\n",
              "      <td>2017-07-15</td>\n",
              "      <td>112000.0</td>\n",
              "    </tr>\n",
              "    <tr>\n",
              "      <th>227842</th>\n",
              "      <td>0610b486422d4921ae7d2bf64640c50b</td>\n",
              "      <td>transaction</td>\n",
              "      <td>528</td>\n",
              "      <td>None</td>\n",
              "      <td>23.22</td>\n",
              "      <td>0.0</td>\n",
              "      <td>NaN</td>\n",
              "      <td>0.0</td>\n",
              "      <td>0.0</td>\n",
              "      <td>NaN</td>\n",
              "      <td>F</td>\n",
              "      <td>55</td>\n",
              "      <td>2017-07-15</td>\n",
              "      <td>112000.0</td>\n",
              "    </tr>\n",
              "  </tbody>\n",
              "</table>\n",
              "</div>"
            ],
            "text/plain": [
              "                                      person           event  time  \\\n",
              "Unnamed: 0                                                           \n",
              "20282       0610b486422d4921ae7d2bf64640c50b     transaction    18   \n",
              "49501       0610b486422d4921ae7d2bf64640c50b     transaction   144   \n",
              "150597      0610b486422d4921ae7d2bf64640c50b  offer received   408   \n",
              "201571      0610b486422d4921ae7d2bf64640c50b  offer received   504   \n",
              "227842      0610b486422d4921ae7d2bf64640c50b     transaction   528   \n",
              "\n",
              "                                    offer_id  amount  reward  \\\n",
              "Unnamed: 0                                                     \n",
              "20282                                   None   21.51     0.0   \n",
              "49501                                   None   32.28     0.0   \n",
              "150597      9b98b8c7a33c4b65b9aebfe6a799e6d9    0.00     0.0   \n",
              "201571      3f207df678b143eea3cee63160fa8bed    0.00     0.0   \n",
              "227842                                  None   23.22     0.0   \n",
              "\n",
              "                              channels  difficulty  duration     offer_type  \\\n",
              "Unnamed: 0                                                                    \n",
              "20282                              NaN         0.0       0.0            NaN   \n",
              "49501                              NaN         0.0       0.0            NaN   \n",
              "150597      ['web', 'email', 'mobile']         5.0       7.0           bogo   \n",
              "201571      ['web', 'email', 'mobile']         0.0       4.0  informational   \n",
              "227842                             NaN         0.0       0.0            NaN   \n",
              "\n",
              "           gender  age became_member_on    income  \n",
              "Unnamed: 0                                         \n",
              "20282           F   55       2017-07-15  112000.0  \n",
              "49501           F   55       2017-07-15  112000.0  \n",
              "150597          F   55       2017-07-15  112000.0  \n",
              "201571          F   55       2017-07-15  112000.0  \n",
              "227842          F   55       2017-07-15  112000.0  "
            ]
          },
          "execution_count": 9,
          "metadata": {},
          "output_type": "execute_result"
        }
      ],
      "source": [
        "df.head()"
      ]
    },
    {
      "cell_type": "markdown",
      "metadata": {
        "datalore": {
          "hide_input_from_viewers": false,
          "hide_output_from_viewers": false,
          "node_id": "lZazAZHN0wu5qEkI0OH4s9",
          "report_properties": {},
          "type": "MD"
        },
        "id": "jBG4FQ7YbPd6"
      },
      "source": [
        "# Data Presentation"
      ]
    },
    {
      "cell_type": "code",
      "execution_count": null,
      "metadata": {
        "datalore": {
          "hide_input_from_viewers": false,
          "hide_output_from_viewers": false,
          "node_id": "zvy5tNogEPvByX3CbVH2hO",
          "report_properties": {},
          "type": "CODE"
        },
        "id": "HLkTEVTYbPd7",
        "outputId": "5e03698d-9f80-4854-c561-58b3687c6882"
      },
      "outputs": [
        {
          "data": {
            "text/plain": [
              "272762"
            ]
          },
          "execution_count": 10,
          "metadata": {},
          "output_type": "execute_result"
        }
      ],
      "source": [
        "len(df)"
      ]
    },
    {
      "cell_type": "code",
      "execution_count": null,
      "metadata": {
        "datalore": {
          "hide_input_from_viewers": false,
          "hide_output_from_viewers": false,
          "node_id": "H5VjPS330yJkgRq43kIqFW",
          "report_properties": {},
          "type": "CODE"
        },
        "id": "UBRfG9XSbPd7",
        "outputId": "02298d80-b283-4024-a1ba-ab7b1f19eb06"
      },
      "outputs": [
        {
          "data": {
            "text/plain": [
              "'Data describes 10 offers in a period of 29.75 days. There are 14825 properly described users and 123957 transactions not connected to offers'"
            ]
          },
          "execution_count": 11,
          "metadata": {},
          "output_type": "execute_result"
        }
      ],
      "source": [
        "f\"Data describes {df['offer_id'].nunique()} offers in a period of {df['time'].max()/24} days. There are {len(profiles)} properly described users and {len(df[df['event']=='transaction'])} transactions not connected to offers\"\n",
        "#reward - value of the offer\n",
        "#difficulty - how much money costomer has to spend to get the offer\n",
        "#time - from beginning of the months, in hours\n",
        "#duration - how long the offer is valid in days\n"
      ]
    },
    {
      "cell_type": "code",
      "execution_count": null,
      "metadata": {
        "datalore": {
          "hide_input_from_viewers": false,
          "hide_output_from_viewers": false,
          "node_id": "eqVGIuGwzxBewHPk29VfWd",
          "report_properties": {},
          "type": "CODE"
        },
        "id": "iSHXHex_bPd7",
        "outputId": "93086726-e0ad-4b99-eea4-13e4873e5ae4"
      },
      "outputs": [
        {
          "data": {
            "text/plain": [
              "Text(0.5, 1.0, 'Time when offers were released to users')"
            ]
          },
          "execution_count": 12,
          "metadata": {},
          "output_type": "execute_result"
        },
        {
          "data": {
            "image/png": "[encoded data removed]",
            "text/plain": [
              "<Figure size 432x288 with 1 Axes>"
            ]
          },
          "metadata": {
            "needs_background": "light"
          },
          "output_type": "display_data"
        }
      ],
      "source": [
        "df[df['event']=='offer received']['time'].hist(bins=50)\n",
        "plt.title(\"Time when offers were released to users\")"
      ]
    },
    {
      "cell_type": "code",
      "execution_count": null,
      "metadata": {
        "datalore": {
          "hide_input_from_viewers": false,
          "hide_output_from_viewers": false,
          "node_id": "hQgDxceXZKb3tJAhjJLw5I",
          "report_properties": {},
          "type": "CODE"
        },
        "id": "kL0W6knwbPd7",
        "outputId": "ba507fca-c667-44ae-dbbf-d6ad9807fe7a"
      },
      "outputs": [
        {
          "data": {
            "text/plain": [
              "Text(0.5, 1.0, \"Distribution of the offers' completion in time\")"
            ]
          },
          "execution_count": 13,
          "metadata": {},
          "output_type": "execute_result"
        },
        {
          "data": {
            "image/png": "[encoded data removed]",
            "text/plain": [
              "<Figure size 432x288 with 1 Axes>"
            ]
          },
          "metadata": {
            "needs_background": "light"
          },
          "output_type": "display_data"
        }
      ],
      "source": [
        "#and when the offers were used\n",
        "df[df['event']=='transaction']['time'].hist(bins=50)\n",
        "plt.title(\"Distribution of the offers' completion in time\")"
      ]
    },
    {
      "cell_type": "code",
      "execution_count": null,
      "metadata": {
        "datalore": {
          "hide_input_from_viewers": true,
          "hide_output_from_viewers": true,
          "node_id": "u0Rq3F7HRFipuGcBTRlgwm",
          "type": "CODE"
        },
        "id": "iyW8xG6kbPd7"
      },
      "outputs": [],
      "source": [
        "# def time_of_day(time_int):  <---- this function is not used as the realtime of day is not reported in the data\n",
        "#     if time_int%24 < 6:\n",
        "#         return 'night'\n",
        "#     if time_int%24 <10:\n",
        "#         return 'morning'\n",
        "#     if time_int%24 <14:\n",
        "#         return 'midday'\n",
        "#     if time_int%24 <18:\n",
        "#         return 'afternoon'\n",
        "#     if time_int%24 <22:\n",
        "#         return 'evening'\n",
        "#     else:\n",
        "#         return 'night'\n",
        "#df['time of day'] = df['time'].apply(lambda x: time_of_day(x))"
      ]
    },
    {
      "cell_type": "code",
      "execution_count": null,
      "metadata": {
        "datalore": {
          "hide_input_from_viewers": true,
          "hide_output_from_viewers": true,
          "node_id": "N5JVoZ3lZFFDkB8JzS8AgO",
          "type": "CODE"
        },
        "id": "LXLA3Ke2bPd8"
      },
      "outputs": [],
      "source": [
        "# hour_of_day = df['time'].apply(lambda x: x%24)\n",
        "# print(hour_of_day.unique())\n",
        "# hour_of_day.hist()"
      ]
    },
    {
      "cell_type": "markdown",
      "metadata": {
        "datalore": {
          "hide_input_from_viewers": false,
          "hide_output_from_viewers": false,
          "node_id": "kpfDPVfmMWCdrgEYv014cW",
          "report_properties": {},
          "type": "MD"
        },
        "id": "Z_QApYBzbPd8"
      },
      "source": [
        "## User characteristics"
      ]
    },
    {
      "cell_type": "code",
      "execution_count": null,
      "metadata": {
        "datalore": {
          "hide_input_from_viewers": false,
          "hide_output_from_viewers": false,
          "node_id": "jWaoy7jHNOYIYV7XcWCR9R",
          "report_properties": {},
          "type": "CODE"
        },
        "id": "aXr12vQibPd8",
        "outputId": "10bd6220-2563-4b78-ad8b-a364f338c464"
      },
      "outputs": [
        {
          "name": "stdout",
          "output_type": "stream",
          "text": [
            "Median age: 55.0\n",
            "41.0 66.0\n"
          ]
        },
        {
          "data": {
            "image/png": "[encoded data removed]",
            "text/plain": [
              "<Figure size 432x288 with 1 Axes>"
            ]
          },
          "metadata": {
            "needs_background": "light"
          },
          "output_type": "display_data"
        }
      ],
      "source": [
        "df['age'].hist()\n",
        "print(\"Median age: \" + str(df['age'].median()))\n",
        "print(str(df['age'].quantile(0.25)) + ' ' + str(df['age'].quantile(0.75)))"
      ]
    },
    {
      "cell_type": "code",
      "execution_count": null,
      "metadata": {
        "datalore": {
          "hide_input_from_viewers": false,
          "hide_output_from_viewers": false,
          "node_id": "rBnwIl0Mxs3RtiZ5enpknF",
          "report_properties": {},
          "type": "CODE"
        },
        "id": "M4Iu1S7IbPd8",
        "outputId": "b5f08a1b-b4b9-4932-9e97-f0c8eba99637"
      },
      "outputs": [
        {
          "name": "stdout",
          "output_type": "stream",
          "text": [
            "Median income: 62000.0\n",
            "Mean income: 64337.00075523717\n",
            "48000.0 78000.0\n"
          ]
        },
        {
          "data": {
            "image/png": "[encoded data removed]",
            "text/plain": [
              "<Figure size 432x288 with 1 Axes>"
            ]
          },
          "metadata": {
            "needs_background": "light"
          },
          "output_type": "display_data"
        }
      ],
      "source": [
        "df['income'].hist()\n",
        "print(\"Median income: \" + str(df['income'].median()))\n",
        "print(\"Mean income: \" + str(df['income'].mean()))\n",
        "print(str(df['income'].quantile(0.25)) + ' ' + str(df['income'].quantile(0.75)))"
      ]
    },
    {
      "cell_type": "code",
      "execution_count": null,
      "metadata": {
        "datalore": {
          "hide_input_from_viewers": false,
          "hide_output_from_viewers": false,
          "node_id": "IxY6fpza0Ndv63FKeXO5Rg",
          "report_properties": {},
          "type": "CODE"
        },
        "id": "j7TyLtu9bPd8",
        "outputId": "b07cf994-6585-4892-f518-a0b6a42dab0e"
      },
      "outputs": [
        {
          "name": "stdout",
          "output_type": "stream",
          "text": [
            "percent of purchases that come from completing offers:\n",
            "0.20744112889303776\n",
            "percent of revenue from offers\n",
            "0.14833961946649044\n"
          ]
        }
      ],
      "source": [
        "print('percent of purchases that come from completing offers:')\n",
        "print(len(df[df['event'] == 'offer completed'])/(len(df[df['event'] == 'offer completed']) + len(df[df['event'] == 'transaction'])))\n",
        "print('percent of revenue from offers')\n",
        "print(np.sum(df[df['event'] == 'offer completed']['difficulty']) / (np.sum(df[df['event'] == 'offer completed']['difficulty']) + np.sum(df[df['event'] == 'transaction']['amount'])))"
      ]
    },
    {
      "cell_type": "code",
      "execution_count": null,
      "metadata": {
        "datalore": {
          "hide_input_from_viewers": false,
          "hide_output_from_viewers": false,
          "node_id": "X2tCA2aUwo85QsmSOSSgqw",
          "report_properties": {},
          "type": "CODE"
        },
        "id": "lgCUOGLobPd8",
        "outputId": "a60191e7-cf13-4f6b-fe40-9e8ef2d9031b"
      },
      "outputs": [
        {
          "name": "stdout",
          "output_type": "stream",
          "text": [
            "percent of male:\n",
            "0.5722765598650927\n"
          ]
        }
      ],
      "source": [
        "print('percent of male:')\n",
        "print((profiles.groupby(by='gender').count().loc['M',:]/len(profiles))[0])"
      ]
    },
    {
      "cell_type": "code",
      "execution_count": null,
      "metadata": {
        "datalore": {
          "hide_input_from_viewers": false,
          "hide_output_from_viewers": false,
          "node_id": "0F7TeS0lWpWFM4ZS48269b",
          "report_properties": {},
          "type": "CODE"
        },
        "id": "pPLv2q0hbPd9",
        "outputId": "42069498-9d50-427d-8467-51324856af7a"
      },
      "outputs": [
        {
          "data": {
            "image/png": "[encoded data removed]",
            "text/plain": [
              "<Figure size 432x288 with 1 Axes>"
            ]
          },
          "metadata": {
            "needs_background": "light"
          },
          "output_type": "display_data"
        }
      ],
      "source": [
        "plt.scatter(profiles['age'],profiles['income'],marker='x',s=0.1)\n",
        "plt.title('Income to age distribution') ;"
      ]
    },
    {
      "cell_type": "markdown",
      "metadata": {
        "datalore": {
          "hide_input_from_viewers": false,
          "hide_output_from_viewers": false,
          "node_id": "O6ygiuR5EK3uYq8V431SYT",
          "report_properties": {},
          "type": "MD"
        },
        "id": "LPKkAr4XbPd9"
      },
      "source": [
        "# Pre-processing"
      ]
    },
    {
      "cell_type": "markdown",
      "metadata": {
        "datalore": {
          "hide_input_from_viewers": false,
          "hide_output_from_viewers": false,
          "node_id": "76gDIVxiSH1lK7DNhZJQBM",
          "report_properties": {},
          "type": "MD"
        },
        "id": "wCriLBPYbPd9"
      },
      "source": [
        "### Gather the statistics about offers in 'offers' dataframe"
      ]
    },
    {
      "cell_type": "code",
      "execution_count": null,
      "metadata": {
        "datalore": {
          "hide_input_from_viewers": false,
          "hide_output_from_viewers": false,
          "node_id": "Lev5cZh7MXawn3OayiAcWn",
          "report_properties": {},
          "type": "CODE"
        },
        "id": "ZQc2pGffbPd9"
      },
      "outputs": [],
      "source": [
        "offers = pd.DataFrame(index=portfolio.index)\n",
        "\n",
        "offers['number of completions'] = df[df['event']=='offer completed'].groupby(by='offer_id').count()['event']\n",
        "offers['number of times received'] = df[df['event']=='offer received'].groupby(by='offer_id').count()['event']\n",
        "offers['rate(%)'] = offers['number of completions']/offers['number of times received']*100\n",
        "time_diffs = df.pivot_table(columns='event',values='time',index=['person','offer_id']).dropna()['offer completed'] - df.pivot_table(columns='event',values='time',index=['person','offer_id']).dropna()['offer received']\n",
        "time_diffs = time_diffs[time_diffs >= 0]\n",
        "offers['average time to completion'] =  time_diffs.reset_index().groupby(by='offer_id').mean()[0]\n",
        "\n",
        "offers = pd.merge(offers, portfolio, left_index=True, right_index=True, how='outer')"
      ]
    },
    {
      "cell_type": "code",
      "execution_count": null,
      "metadata": {
        "datalore": {
          "hide_input_from_viewers": true,
          "hide_output_from_viewers": true,
          "node_id": "ND8TXri0PqFj9VV7Lh57hG",
          "type": "CODE"
        },
        "id": "HaWBCqqFbPd9",
        "outputId": "5e823930-3a15-42e2-fad7-3da114c14a75"
      },
      "outputs": [
        {
          "data": {
            "text/html": [
              "<div>\n",
              "<style scoped>\n",
              "    .dataframe tbody tr th:only-of-type {\n",
              "        vertical-align: middle;\n",
              "    }\n",
              "\n",
              "    .dataframe tbody tr th {\n",
              "        vertical-align: top;\n",
              "    }\n",
              "\n",
              "    .dataframe thead th {\n",
              "        text-align: right;\n",
              "    }\n",
              "</style>\n",
              "<table border=\"1\" class=\"dataframe\">\n",
              "  <thead>\n",
              "    <tr style=\"text-align: right;\">\n",
              "      <th></th>\n",
              "      <th>number of completions</th>\n",
              "      <th>number of times received</th>\n",
              "      <th>rate(%)</th>\n",
              "      <th>average time to completion</th>\n",
              "      <th>channels</th>\n",
              "      <th>difficulty</th>\n",
              "      <th>duration</th>\n",
              "      <th>offer_type</th>\n",
              "    </tr>\n",
              "    <tr>\n",
              "      <th>id</th>\n",
              "      <th></th>\n",
              "      <th></th>\n",
              "      <th></th>\n",
              "      <th></th>\n",
              "      <th></th>\n",
              "      <th></th>\n",
              "      <th></th>\n",
              "      <th></th>\n",
              "    </tr>\n",
              "  </thead>\n",
              "  <tbody>\n",
              "    <tr>\n",
              "      <th>ae264e3637204a6fb9bb56bc8210ddfd</th>\n",
              "      <td>3657.0</td>\n",
              "      <td>6683</td>\n",
              "      <td>54.720934</td>\n",
              "      <td>59.885345</td>\n",
              "      <td>['email', 'mobile', 'social']</td>\n",
              "      <td>10</td>\n",
              "      <td>7</td>\n",
              "      <td>bogo</td>\n",
              "    </tr>\n",
              "    <tr>\n",
              "      <th>4d5c57ea9a6940dd891ad53e9dbe8da0</th>\n",
              "      <td>3310.0</td>\n",
              "      <td>6593</td>\n",
              "      <td>50.204763</td>\n",
              "      <td>50.185599</td>\n",
              "      <td>['web', 'email', 'mobile', 'social']</td>\n",
              "      <td>10</td>\n",
              "      <td>5</td>\n",
              "      <td>bogo</td>\n",
              "    </tr>\n",
              "    <tr>\n",
              "      <th>3f207df678b143eea3cee63160fa8bed</th>\n",
              "      <td>NaN</td>\n",
              "      <td>6657</td>\n",
              "      <td>NaN</td>\n",
              "      <td>NaN</td>\n",
              "      <td>['web', 'email', 'mobile']</td>\n",
              "      <td>0</td>\n",
              "      <td>4</td>\n",
              "      <td>informational</td>\n",
              "    </tr>\n",
              "    <tr>\n",
              "      <th>9b98b8c7a33c4b65b9aebfe6a799e6d9</th>\n",
              "      <td>4188.0</td>\n",
              "      <td>6685</td>\n",
              "      <td>62.647719</td>\n",
              "      <td>62.560652</td>\n",
              "      <td>['web', 'email', 'mobile']</td>\n",
              "      <td>5</td>\n",
              "      <td>7</td>\n",
              "      <td>bogo</td>\n",
              "    </tr>\n",
              "    <tr>\n",
              "      <th>0b1e1539f2cc45b7b9fa7c272da2e1d7</th>\n",
              "      <td>3386.0</td>\n",
              "      <td>6726</td>\n",
              "      <td>50.341957</td>\n",
              "      <td>96.467468</td>\n",
              "      <td>['web', 'email']</td>\n",
              "      <td>20</td>\n",
              "      <td>10</td>\n",
              "      <td>discount</td>\n",
              "    </tr>\n",
              "  </tbody>\n",
              "</table>\n",
              "</div>"
            ],
            "text/plain": [
              "                                  number of completions  \\\n",
              "id                                                        \n",
              "ae264e3637204a6fb9bb56bc8210ddfd                 3657.0   \n",
              "4d5c57ea9a6940dd891ad53e9dbe8da0                 3310.0   \n",
              "3f207df678b143eea3cee63160fa8bed                    NaN   \n",
              "9b98b8c7a33c4b65b9aebfe6a799e6d9                 4188.0   \n",
              "0b1e1539f2cc45b7b9fa7c272da2e1d7                 3386.0   \n",
              "\n",
              "                                  number of times received    rate(%)  \\\n",
              "id                                                                      \n",
              "ae264e3637204a6fb9bb56bc8210ddfd                      6683  54.720934   \n",
              "4d5c57ea9a6940dd891ad53e9dbe8da0                      6593  50.204763   \n",
              "3f207df678b143eea3cee63160fa8bed                      6657        NaN   \n",
              "9b98b8c7a33c4b65b9aebfe6a799e6d9                      6685  62.647719   \n",
              "0b1e1539f2cc45b7b9fa7c272da2e1d7                      6726  50.341957   \n",
              "\n",
              "                                  average time to completion  \\\n",
              "id                                                             \n",
              "ae264e3637204a6fb9bb56bc8210ddfd                   59.885345   \n",
              "4d5c57ea9a6940dd891ad53e9dbe8da0                   50.185599   \n",
              "3f207df678b143eea3cee63160fa8bed                         NaN   \n",
              "9b98b8c7a33c4b65b9aebfe6a799e6d9                   62.560652   \n",
              "0b1e1539f2cc45b7b9fa7c272da2e1d7                   96.467468   \n",
              "\n",
              "                                                              channels  \\\n",
              "id                                                                       \n",
              "ae264e3637204a6fb9bb56bc8210ddfd         ['email', 'mobile', 'social']   \n",
              "4d5c57ea9a6940dd891ad53e9dbe8da0  ['web', 'email', 'mobile', 'social']   \n",
              "3f207df678b143eea3cee63160fa8bed            ['web', 'email', 'mobile']   \n",
              "9b98b8c7a33c4b65b9aebfe6a799e6d9            ['web', 'email', 'mobile']   \n",
              "0b1e1539f2cc45b7b9fa7c272da2e1d7                      ['web', 'email']   \n",
              "\n",
              "                                  difficulty  duration     offer_type  \n",
              "id                                                                     \n",
              "ae264e3637204a6fb9bb56bc8210ddfd          10         7           bogo  \n",
              "4d5c57ea9a6940dd891ad53e9dbe8da0          10         5           bogo  \n",
              "3f207df678b143eea3cee63160fa8bed           0         4  informational  \n",
              "9b98b8c7a33c4b65b9aebfe6a799e6d9           5         7           bogo  \n",
              "0b1e1539f2cc45b7b9fa7c272da2e1d7          20        10       discount  "
            ]
          },
          "execution_count": 22,
          "metadata": {},
          "output_type": "execute_result"
        }
      ],
      "source": [
        "offers.head()"
      ]
    },
    {
      "cell_type": "markdown",
      "metadata": {
        "datalore": {
          "hide_input_from_viewers": true,
          "hide_output_from_viewers": true,
          "node_id": "tXI3309Wr58EcNcXIdfixP",
          "type": "MD"
        },
        "id": "Y_aUNQnsbPd9"
      },
      "source": [
        "### Gather information about user characteristics and behaviour in 'user_offers' dataframe"
      ]
    },
    {
      "cell_type": "code",
      "execution_count": null,
      "metadata": {
        "datalore": {
          "hide_input_from_viewers": false,
          "hide_output_from_viewers": false,
          "node_id": "yQkqFtSOY9ULf4seoUyitN",
          "report_properties": {},
          "type": "CODE"
        },
        "id": "ZeCZqZ5kbPd-"
      },
      "outputs": [],
      "source": [
        "received_offers = df[df['event']=='offer received']\n",
        "count_r = received_offers[['person','event']].groupby('person').count().fillna(0)\n",
        "\n",
        "completed_offers = df[df['event']=='offer completed']\n",
        "count_c = completed_offers[['person','event']].groupby('person').count().fillna(0)\n",
        "\n",
        "user_offers = profiles.copy()\n",
        "\n",
        "#count_offers = pd.merge(count_r, count_c, left_index=True, right_index=True, how = 'outer') #merge\n",
        "user_offers['offer received'] = count_r\n",
        "user_offers['offer completed'] = count_c\n",
        "user_offers['rate(%)'] = user_offers['offer completed'] / user_offers['offer received']\n",
        "\n",
        "\n",
        "#user_offers = pd.merge(profiles, count_offers, left_index=True, right_index=True, how = 'outer') #merge\n",
        "user_offers['transactions sum'] = df[df['event']=='transaction'][['person','amount']].groupby('person').sum().fillna(0)\n",
        "user_offers['profit from offers sum'] = df[df['event']=='offer completed'][['person','difficulty']].groupby('person').sum().fillna(0)['difficulty'] - df[df['event']=='offer completed'][['person','reward']].groupby('person').sum().fillna(0)['reward']\n",
        "\n",
        "completion_pivot = df[['person','event','time','offer_id']].pivot_table(columns=['event'],values='time',index=['person','offer_id'])\n",
        "user_offers['time to offer completion avg'] = (completion_pivot['offer completed'] - completion_pivot['offer received']).dropna().reset_index().groupby('person').mean()\n",
        "user_offers['revenue from customer sum'] = user_offers['profit from offers sum'] + user_offers['transactions sum']\n",
        "user_offers = user_offers.dropna()"
      ]
    },
    {
      "cell_type": "code",
      "execution_count": null,
      "metadata": {
        "datalore": {
          "hide_input_from_viewers": true,
          "hide_output_from_viewers": true,
          "node_id": "9DRAcHTfLLjYm4tpEqqN76",
          "type": "CODE"
        },
        "id": "kK_Ihrk4bPd-"
      },
      "outputs": [],
      "source": [
        "# The transactions the users make (event == transaction)\n",
        "transaction = df[['person', 'event']]\n",
        "transaction = transaction[transaction.event == 'transaction']\n",
        "transaction = transaction['person'].value_counts() #counting the number of transactions for each user\n",
        "\n",
        "user_offers['n_transactions'] = transaction.fillna(0) #complete the missing values with 0"
      ]
    },
    {
      "cell_type": "code",
      "execution_count": null,
      "metadata": {
        "datalore": {
          "hide_input_from_viewers": false,
          "hide_output_from_viewers": false,
          "node_id": "EgG2qci1xCiRP35Kds1CA8",
          "report_properties": {},
          "type": "CODE"
        },
        "id": "8vB_0RN7bPd-",
        "outputId": "fd7297bd-0f3a-48cf-cdfd-d1073e0fd378"
      },
      "outputs": [
        {
          "data": {
            "text/html": [
              "<div>\n",
              "<style scoped>\n",
              "    .dataframe tbody tr th:only-of-type {\n",
              "        vertical-align: middle;\n",
              "    }\n",
              "\n",
              "    .dataframe tbody tr th {\n",
              "        vertical-align: top;\n",
              "    }\n",
              "\n",
              "    .dataframe thead th {\n",
              "        text-align: right;\n",
              "    }\n",
              "</style>\n",
              "<table border=\"1\" class=\"dataframe\">\n",
              "  <thead>\n",
              "    <tr style=\"text-align: right;\">\n",
              "      <th></th>\n",
              "      <th>gender</th>\n",
              "      <th>age</th>\n",
              "      <th>became_member_on</th>\n",
              "      <th>income</th>\n",
              "      <th>offer received</th>\n",
              "      <th>offer completed</th>\n",
              "      <th>rate(%)</th>\n",
              "      <th>transactions sum</th>\n",
              "      <th>profit from offers sum</th>\n",
              "      <th>time to offer completion avg</th>\n",
              "      <th>revenue from customer sum</th>\n",
              "      <th>n_transactions</th>\n",
              "    </tr>\n",
              "    <tr>\n",
              "      <th>id</th>\n",
              "      <th></th>\n",
              "      <th></th>\n",
              "      <th></th>\n",
              "      <th></th>\n",
              "      <th></th>\n",
              "      <th></th>\n",
              "      <th></th>\n",
              "      <th></th>\n",
              "      <th></th>\n",
              "      <th></th>\n",
              "      <th></th>\n",
              "      <th></th>\n",
              "    </tr>\n",
              "  </thead>\n",
              "  <tbody>\n",
              "    <tr>\n",
              "      <th>0610b486422d4921ae7d2bf64640c50b</th>\n",
              "      <td>F</td>\n",
              "      <td>55</td>\n",
              "      <td>2017-07-15</td>\n",
              "      <td>112000.0</td>\n",
              "      <td>2.0</td>\n",
              "      <td>1.0</td>\n",
              "      <td>0.500000</td>\n",
              "      <td>77.01</td>\n",
              "      <td>0.0</td>\n",
              "      <td>120.0</td>\n",
              "      <td>77.01</td>\n",
              "      <td>3</td>\n",
              "    </tr>\n",
              "    <tr>\n",
              "      <th>78afa995795e4d85b5d9ceeca43f5fef</th>\n",
              "      <td>F</td>\n",
              "      <td>75</td>\n",
              "      <td>2017-05-09</td>\n",
              "      <td>100000.0</td>\n",
              "      <td>4.0</td>\n",
              "      <td>3.0</td>\n",
              "      <td>0.750000</td>\n",
              "      <td>159.27</td>\n",
              "      <td>0.0</td>\n",
              "      <td>80.0</td>\n",
              "      <td>159.27</td>\n",
              "      <td>7</td>\n",
              "    </tr>\n",
              "    <tr>\n",
              "      <th>e2127556f4f64592b11af22de27a7932</th>\n",
              "      <td>M</td>\n",
              "      <td>68</td>\n",
              "      <td>2018-04-26</td>\n",
              "      <td>70000.0</td>\n",
              "      <td>4.0</td>\n",
              "      <td>2.0</td>\n",
              "      <td>0.500000</td>\n",
              "      <td>57.73</td>\n",
              "      <td>8.0</td>\n",
              "      <td>66.0</td>\n",
              "      <td>65.73</td>\n",
              "      <td>3</td>\n",
              "    </tr>\n",
              "    <tr>\n",
              "      <th>389bc3fa690240e798340f5a15918d5c</th>\n",
              "      <td>M</td>\n",
              "      <td>65</td>\n",
              "      <td>2018-02-09</td>\n",
              "      <td>53000.0</td>\n",
              "      <td>6.0</td>\n",
              "      <td>5.0</td>\n",
              "      <td>0.833333</td>\n",
              "      <td>36.43</td>\n",
              "      <td>16.0</td>\n",
              "      <td>118.5</td>\n",
              "      <td>52.43</td>\n",
              "      <td>3</td>\n",
              "    </tr>\n",
              "    <tr>\n",
              "      <th>2eeac8d8feae4a8cad5a6af0499a211d</th>\n",
              "      <td>M</td>\n",
              "      <td>58</td>\n",
              "      <td>2017-11-11</td>\n",
              "      <td>51000.0</td>\n",
              "      <td>3.0</td>\n",
              "      <td>1.0</td>\n",
              "      <td>0.333333</td>\n",
              "      <td>15.62</td>\n",
              "      <td>8.0</td>\n",
              "      <td>120.0</td>\n",
              "      <td>23.62</td>\n",
              "      <td>4</td>\n",
              "    </tr>\n",
              "  </tbody>\n",
              "</table>\n",
              "</div>"
            ],
            "text/plain": [
              "                                 gender  age became_member_on    income  \\\n",
              "id                                                                        \n",
              "0610b486422d4921ae7d2bf64640c50b      F   55       2017-07-15  112000.0   \n",
              "78afa995795e4d85b5d9ceeca43f5fef      F   75       2017-05-09  100000.0   \n",
              "e2127556f4f64592b11af22de27a7932      M   68       2018-04-26   70000.0   \n",
              "389bc3fa690240e798340f5a15918d5c      M   65       2018-02-09   53000.0   \n",
              "2eeac8d8feae4a8cad5a6af0499a211d      M   58       2017-11-11   51000.0   \n",
              "\n",
              "                                  offer received  offer completed   rate(%)  \\\n",
              "id                                                                            \n",
              "0610b486422d4921ae7d2bf64640c50b             2.0              1.0  0.500000   \n",
              "78afa995795e4d85b5d9ceeca43f5fef             4.0              3.0  0.750000   \n",
              "e2127556f4f64592b11af22de27a7932             4.0              2.0  0.500000   \n",
              "389bc3fa690240e798340f5a15918d5c             6.0              5.0  0.833333   \n",
              "2eeac8d8feae4a8cad5a6af0499a211d             3.0              1.0  0.333333   \n",
              "\n",
              "                                  transactions sum  profit from offers sum  \\\n",
              "id                                                                           \n",
              "0610b486422d4921ae7d2bf64640c50b             77.01                     0.0   \n",
              "78afa995795e4d85b5d9ceeca43f5fef            159.27                     0.0   \n",
              "e2127556f4f64592b11af22de27a7932             57.73                     8.0   \n",
              "389bc3fa690240e798340f5a15918d5c             36.43                    16.0   \n",
              "2eeac8d8feae4a8cad5a6af0499a211d             15.62                     8.0   \n",
              "\n",
              "                                  time to offer completion avg  \\\n",
              "id                                                               \n",
              "0610b486422d4921ae7d2bf64640c50b                         120.0   \n",
              "78afa995795e4d85b5d9ceeca43f5fef                          80.0   \n",
              "e2127556f4f64592b11af22de27a7932                          66.0   \n",
              "389bc3fa690240e798340f5a15918d5c                         118.5   \n",
              "2eeac8d8feae4a8cad5a6af0499a211d                         120.0   \n",
              "\n",
              "                                  revenue from customer sum  n_transactions  \n",
              "id                                                                           \n",
              "0610b486422d4921ae7d2bf64640c50b                      77.01               3  \n",
              "78afa995795e4d85b5d9ceeca43f5fef                     159.27               7  \n",
              "e2127556f4f64592b11af22de27a7932                      65.73               3  \n",
              "389bc3fa690240e798340f5a15918d5c                      52.43               3  \n",
              "2eeac8d8feae4a8cad5a6af0499a211d                      23.62               4  "
            ]
          },
          "execution_count": 25,
          "metadata": {},
          "output_type": "execute_result"
        }
      ],
      "source": [
        "user_offers.head()"
      ]
    },
    {
      "cell_type": "markdown",
      "metadata": {
        "datalore": {
          "hide_input_from_viewers": false,
          "hide_output_from_viewers": false,
          "node_id": "kFJVoVHNaD9sFASwL8Ok7n",
          "report_properties": {},
          "type": "MD"
        },
        "id": "5dTybGB5bPd-"
      },
      "source": [
        "# Analysis"
      ]
    },
    {
      "cell_type": "markdown",
      "metadata": {
        "datalore": {
          "hide_input_from_viewers": true,
          "hide_output_from_viewers": true,
          "node_id": "Y1L9MpGt7pgVK9Hui0olU7",
          "type": "MD"
        },
        "id": "YSdAOYq5bPd-"
      },
      "source": [
        "Revenue per gender"
      ]
    },
    {
      "cell_type": "code",
      "execution_count": null,
      "metadata": {
        "datalore": {
          "hide_input_from_viewers": true,
          "hide_output_from_viewers": true,
          "node_id": "0NngavNUIc5SeaBPiVO7rR",
          "type": "CODE"
        },
        "id": "zQ8xC_NcbPd-",
        "outputId": "da0cb26f-1da1-4e91-a8a5-f892b2e9d0f1"
      },
      "outputs": [
        {
          "data": {
            "text/html": [
              "<div>\n",
              "<style scoped>\n",
              "    .dataframe tbody tr th:only-of-type {\n",
              "        vertical-align: middle;\n",
              "    }\n",
              "\n",
              "    .dataframe tbody tr th {\n",
              "        vertical-align: top;\n",
              "    }\n",
              "\n",
              "    .dataframe thead th {\n",
              "        text-align: right;\n",
              "    }\n",
              "</style>\n",
              "<table border=\"1\" class=\"dataframe\">\n",
              "  <thead>\n",
              "    <tr style=\"text-align: right;\">\n",
              "      <th></th>\n",
              "      <th>revenue from customer sum</th>\n",
              "    </tr>\n",
              "    <tr>\n",
              "      <th>gender</th>\n",
              "      <th></th>\n",
              "    </tr>\n",
              "  </thead>\n",
              "  <tbody>\n",
              "    <tr>\n",
              "      <th>F</th>\n",
              "      <td>168.989559</td>\n",
              "    </tr>\n",
              "    <tr>\n",
              "      <th>M</th>\n",
              "      <td>136.622216</td>\n",
              "    </tr>\n",
              "    <tr>\n",
              "      <th>O</th>\n",
              "      <td>156.290670</td>\n",
              "    </tr>\n",
              "  </tbody>\n",
              "</table>\n",
              "</div>"
            ],
            "text/plain": [
              "        revenue from customer sum\n",
              "gender                           \n",
              "F                      168.989559\n",
              "M                      136.622216\n",
              "O                      156.290670"
            ]
          },
          "execution_count": 26,
          "metadata": {},
          "output_type": "execute_result"
        }
      ],
      "source": [
        "revenues_per_gender = user_offers[['revenue from customer sum','gender']].groupby('gender').sum()\n",
        "user_count_per_gender = user_offers[['revenue from customer sum','gender']].groupby('gender').count()\n",
        "revenues_per_gender / user_count_per_gender"
      ]
    },
    {
      "cell_type": "markdown",
      "metadata": {
        "datalore": {
          "hide_input_from_viewers": true,
          "hide_output_from_viewers": true,
          "node_id": "Bgq25Xc0oyEwYMc5ZOKf8M",
          "type": "MD"
        },
        "id": "C9Hb3-PlbPd_"
      },
      "source": [
        "Avergage offers and transactions numbers per customer"
      ]
    },
    {
      "cell_type": "code",
      "execution_count": null,
      "metadata": {
        "datalore": {
          "hide_input_from_viewers": true,
          "hide_output_from_viewers": true,
          "node_id": "zdstcU9POhJwKhNpLbVzHH",
          "type": "CODE"
        },
        "id": "MNY0cOfSbPd_",
        "outputId": "abb0fc9b-7484-4c53-b881-bbeee4cd56be"
      },
      "outputs": [
        {
          "name": "stdout",
          "output_type": "stream",
          "text": [
            "2.7068246287335223\n",
            "9.21858835307859\n"
          ]
        },
        {
          "data": {
            "text/plain": [
              "<AxesSubplot:>"
            ]
          },
          "execution_count": 27,
          "metadata": {},
          "output_type": "execute_result"
        },
        {
          "data": {
            "image/png": "[encoded data removed]",
            "text/plain": [
              "<Figure size 432x288 with 1 Axes>"
            ]
          },
          "metadata": {
            "needs_background": "light"
          },
          "output_type": "display_data"
        }
      ],
      "source": [
        "print(user_offers['offer completed'].mean())\n",
        "print(user_offers['n_transactions'].mean())\n",
        "user_offers['n_transactions'].hist(bins=50)"
      ]
    },
    {
      "cell_type": "markdown",
      "metadata": {
        "datalore": {
          "hide_input_from_viewers": false,
          "hide_output_from_viewers": false,
          "node_id": "SDYafHZlmWEuoCPl0BG0Ps",
          "report_properties": {},
          "type": "MD"
        },
        "id": "k3kqVmWNbPd_"
      },
      "source": [
        "## Linear Regression to predict revenue coming from a customer"
      ]
    },
    {
      "cell_type": "markdown",
      "metadata": {
        "datalore": {
          "hide_input_from_viewers": true,
          "hide_output_from_viewers": true,
          "node_id": "BWyJ3w2ifS3z0g6vves2Ap",
          "type": "MD"
        },
        "id": "aeg9LETJbPd_"
      },
      "source": [
        "Let's try to fit a linear regression model to the data, where x is the users' characteristics and y is 1) sum of transactions they made 2) the amount they spent on offers 3) total revenue connected to the cutomer"
      ]
    },
    {
      "cell_type": "code",
      "execution_count": null,
      "metadata": {
        "datalore": {
          "hide_input_from_viewers": false,
          "hide_output_from_viewers": false,
          "node_id": "nSFoBc2BkuQ0LM294o0w9i",
          "report_properties": {},
          "type": "CODE"
        },
        "id": "QYBJVzIdbPd_",
        "outputId": "107937ad-54da-4f5f-f533-b17d27799c3a"
      },
      "outputs": [
        {
          "data": {
            "text/plain": [
              "Text(0, 0.5, \"Revenue from the offers' completion\")"
            ]
          },
          "execution_count": 28,
          "metadata": {},
          "output_type": "execute_result"
        },
        {
          "data": {
            "image/png": "[encoded data removed]",
            "text/plain": [
              "<Figure size 432x288 with 1 Axes>"
            ]
          },
          "metadata": {
            "needs_background": "light"
          },
          "output_type": "display_data"
        }
      ],
      "source": [
        "xy = user_offers.dropna()\n",
        "x = pd.get_dummies(xy[['gender', 'age', 'income', 'offer received']], columns = ['gender']) #, 'time to offer completion avg'\n",
        "y = xy['revenue from customer sum']\n",
        "#y = xy['transactions sum']\n",
        "#y = xy['profit from offers sum']\n",
        "plt.scatter(xy['transactions sum'],xy['profit from offers sum'],s=0.4)\n",
        "plt.xlabel('Revenue from customer transactions')\n",
        "plt.ylabel(\"Revenue from the offers' completion\")"
      ]
    },
    {
      "cell_type": "code",
      "execution_count": null,
      "metadata": {
        "datalore": {
          "hide_input_from_viewers": false,
          "hide_output_from_viewers": false,
          "node_id": "5CaGG4gaalE2HkIYpqoOYX",
          "report_properties": {},
          "type": "CODE"
        },
        "id": "6llGZ6VQbPeE",
        "outputId": "027da77f-0b72-4ba4-f3ec-a9efe81551d7"
      },
      "outputs": [
        {
          "name": "stdout",
          "output_type": "stream",
          "text": [
            "age =  -0.047\n",
            "income =  0.002\n",
            "offer received =  13.318\n",
            "gender_F =  5.168\n",
            "gender_M =  -13.555\n",
            "gender_O =  8.387\n",
            "Expected value of the error (or Average error, AE): 0.00\n"
          ]
        }
      ],
      "source": [
        "regr=linear_model.LinearRegression(fit_intercept=True)\n",
        "regr.fit(x, y)\n",
        "\n",
        "#print coefficients with names\n",
        "for cname, val in zip(x.columns, regr.coef_.tolist()):\n",
        "    print(f\"{cname} =  {val:.3f}\")\n",
        "\n",
        "#calculate error\n",
        "error=regr.predict(x) - y\n",
        "print(\"Expected value of the error (or Average error, AE): %.2f\" % np.mean(error))"
      ]
    },
    {
      "cell_type": "code",
      "execution_count": null,
      "metadata": {
        "datalore": {
          "hide_input_from_viewers": false,
          "hide_output_from_viewers": false,
          "node_id": "hwr9dYsiXAh17NxmVaszg4",
          "report_properties": {},
          "type": "CODE"
        },
        "id": "rBa5q2BZbPeE",
        "outputId": "42d40278-12d4-48f4-e2cb-5a0df2894af0"
      },
      "outputs": [
        {
          "name": "stdout",
          "output_type": "stream",
          "text": [
            "Mean absolute error: 80.51884221699224\n",
            "Mean y value: 151.47395961955615\n"
          ]
        }
      ],
      "source": [
        "print(f\"Mean absolute error: {np.mean(np.abs(error))}\")\n",
        "print(f\"Mean y value: {np.mean(y)}\")"
      ]
    },
    {
      "cell_type": "code",
      "execution_count": null,
      "metadata": {
        "datalore": {
          "hide_input_from_viewers": false,
          "hide_output_from_viewers": false,
          "node_id": "ob2BeTL5DSbhj5ahwQxhTd",
          "report_properties": {},
          "type": "CODE"
        },
        "id": "xLK8pnd4bPeE",
        "outputId": "322d80ab-fbab-4fda-ff73-9b833b99f0e0"
      },
      "outputs": [
        {
          "data": {
            "text/plain": [
              "[<matplotlib.lines.Line2D at 0x18db27e8880>]"
            ]
          },
          "execution_count": 31,
          "metadata": {},
          "output_type": "execute_result"
        },
        {
          "data": {
            "image/png": "[encoded data removed]",
            "text/plain": [
              "<Figure size 432x288 with 1 Axes>"
            ]
          },
          "metadata": {
            "needs_background": "light"
          },
          "output_type": "display_data"
        }
      ],
      "source": [
        "# 45 degree plot\n",
        "plt.scatter(regr.predict(x),y)\n",
        "plt.xlabel(\"predicted\")\n",
        "plt.ylabel(\"observed\")\n",
        "plt.plot([0, 400], [0, 400], color=\"red\")"
      ]
    },
    {
      "cell_type": "markdown",
      "metadata": {
        "datalore": {
          "hide_input_from_viewers": true,
          "hide_output_from_viewers": true,
          "node_id": "B8eMoHHEbgLnv956do3W6B",
          "type": "MD"
        },
        "id": "LMSOfpI1bPeF"
      },
      "source": [
        "Analysis of the errors and 45 degree plots suggests there is no linear relationship between the customer characteristics and their revenue for the company (neither when it is divided into offers and trnsactions revenue)"
      ]
    },
    {
      "cell_type": "markdown",
      "metadata": {
        "datalore": {
          "hide_input_from_viewers": true,
          "hide_output_from_viewers": true,
          "node_id": "AtB1D1DxhWhleJ26PDeGDh",
          "type": "MD"
        },
        "id": "tNIJ0gZrbPeF"
      },
      "source": [
        "## Age groups analysis"
      ]
    },
    {
      "cell_type": "code",
      "execution_count": null,
      "metadata": {
        "datalore": {
          "hide_input_from_viewers": false,
          "hide_output_from_viewers": false,
          "node_id": "jEvnQYlxGYfgH5faGC8Tqg",
          "report_properties": {},
          "type": "CODE"
        },
        "id": "a0dz1VfBbPeF",
        "outputId": "4ef04d2d-cc8a-4d7a-acfa-b49ac8e37a11"
      },
      "outputs": [
        {
          "data": {
            "image/png": "[encoded data removed]",
            "text/plain": [
              "<Figure size 576x360 with 1 Axes>"
            ]
          },
          "metadata": {
            "needs_background": "light"
          },
          "output_type": "display_data"
        }
      ],
      "source": [
        "# Create a new column `age_group`\n",
        "user_offers['age_group'] = pd.cut(user_offers['age'],\n",
        "      bins = [user_offers['age'].min()-1, 26, 36, 46, 56, 66, 76, 86, user_offers['age'].max()],\n",
        "      labels = ['18-25ys', '26-35ys', '36-45ys', '46-55ys', '56-65ys', '66-75ys', '76-85ys', '> 86ys'])\n",
        "\n",
        "# Visualize customers by age groups\n",
        "age_group_percentage = (user_offers.value_counts('age_group').sort_index() / user_offers.shape[0] * 100).round(1)\n",
        "plt.figure(figsize = (8, 5))\n",
        "yticks = np.arange(0,25,5)\n",
        "yticklabels = [str(y) + '%' for y in yticks]\n",
        "plt.yticks(yticks, labels = yticklabels)\n",
        "plt.xticks(rotation = 45, fontsize = 12)\n",
        "plt.xlabel('Age', fontsize = 15)\n",
        "plt.ylabel('Percentage %', fontsize = 15)\n",
        "plt.title('Age Distribution', fontsize = 18)\n",
        "\n",
        "bar_plot = plt.bar(x = age_group_percentage.index.values, height = age_group_percentage)\n",
        "for i,bar in enumerate(bar_plot.patches):\n",
        "    x, y = bar.get_xy()\n",
        "    plt.text(x+bar.get_width()/2, y+bar.get_height()+0.2,\n",
        "            str(age_group_percentage[i]) + '%',\n",
        "            ha = 'center', weight = 'bold')\n",
        "\n",
        "plt.tight_layout()\n",
        "plt.show()"
      ]
    },
    {
      "cell_type": "code",
      "execution_count": null,
      "metadata": {
        "datalore": {
          "hide_input_from_viewers": true,
          "hide_output_from_viewers": true,
          "node_id": "HLSsFxQetwJOVz3c94sjM0",
          "type": "CODE"
        },
        "id": "Bwe26pCDbPeF",
        "outputId": "601fe499-c9ca-4bb6-f7cc-43c353c33720"
      },
      "outputs": [
        {
          "data": {
            "text/plain": [
              "55.23660937760721"
            ]
          },
          "execution_count": 33,
          "metadata": {},
          "output_type": "execute_result"
        }
      ],
      "source": [
        "user_offers['age'].mean()"
      ]
    },
    {
      "cell_type": "markdown",
      "metadata": {
        "datalore": {
          "hide_input_from_viewers": true,
          "hide_output_from_viewers": true,
          "node_id": "yg6PjTtW58TAexH0uBOflY",
          "type": "MD"
        },
        "id": "sP5PDvuSbPeF"
      },
      "source": [
        "## Grouping customers based on earned revenues"
      ]
    },
    {
      "cell_type": "code",
      "execution_count": null,
      "metadata": {
        "datalore": {
          "hide_input_from_viewers": true,
          "hide_output_from_viewers": true,
          "node_id": "0WuaUI3a42OflC39iwD4Km",
          "type": "CODE"
        },
        "id": "iTvvohNcbPeF",
        "outputId": "2de307ec-00a3-44bc-81f3-e2b7e8d2af86"
      },
      "outputs": [
        {
          "data": {
            "text/plain": [
              "<matplotlib.collections.PathCollection at 0x18db688d3c0>"
            ]
          },
          "execution_count": 34,
          "metadata": {},
          "output_type": "execute_result"
        },
        {
          "data": {
            "image/png": "[encoded data removed]",
            "text/plain": [
              "<Figure size 432x288 with 1 Axes>"
            ]
          },
          "metadata": {
            "needs_background": "light"
          },
          "output_type": "display_data"
        }
      ],
      "source": [
        "revenue_sum = user_offers.groupby('age_group', as_index=False)['revenue from customer sum'].mean()\n",
        "revenue_sum.rename(columns = {'revenue from customer sum':'revenue'}, inplace = True)\n",
        "plt.scatter(x=revenue_sum[\"age_group\"], y=revenue_sum[\"revenue\"])"
      ]
    },
    {
      "cell_type": "code",
      "execution_count": null,
      "metadata": {
        "datalore": {
          "hide_input_from_viewers": true,
          "hide_output_from_viewers": true,
          "node_id": "7zvnYgbNVr2pGj7slf1ODp",
          "type": "CODE"
        },
        "id": "i5VdDXgNbPeG",
        "outputId": "86672522-8ee3-4ce8-c78e-e768c9cbfb31"
      },
      "outputs": [
        {
          "data": {
            "text/plain": [
              "<AxesSubplot:xlabel='age_group'>"
            ]
          },
          "execution_count": 35,
          "metadata": {},
          "output_type": "execute_result"
        },
        {
          "data": {
            "image/png": "[encoded data removed]",
            "text/plain": [
              "<Figure size 432x288 with 1 Axes>"
            ]
          },
          "metadata": {
            "needs_background": "light"
          },
          "output_type": "display_data"
        }
      ],
      "source": [
        "revenue_sum.plot.bar(x='age_group', y='revenue', rot=0)"
      ]
    },
    {
      "cell_type": "markdown",
      "metadata": {
        "datalore": {
          "hide_input_from_viewers": true,
          "hide_output_from_viewers": true,
          "node_id": "zcjG5iECKPZOw6FCkK5878",
          "type": "MD"
        },
        "id": "uCcBPUzCbPeG"
      },
      "source": [
        "## Finding most completed offer"
      ]
    },
    {
      "cell_type": "code",
      "execution_count": null,
      "metadata": {
        "datalore": {
          "hide_input_from_viewers": true,
          "hide_output_from_viewers": true,
          "node_id": "K3Vg57jjnehx2YKR9f1B1p",
          "type": "CODE"
        },
        "id": "H4wh4oILbPeG",
        "outputId": "83e23884-9011-4e1f-9f49-129ac9f89f0b"
      },
      "outputs": [
        {
          "data": {
            "text/plain": [
              "id\n",
              "fafdcd668e3743c1bb461111dcafc2a4    0.752105\n",
              "2298d6c36e964ae4a3e7e9706d1fb8c2    0.734185\n",
              "9b98b8c7a33c4b65b9aebfe6a799e6d9    0.626477\n",
              "f19421c1d4aa40978ebb69ca19b0e20d    0.623936\n",
              "2906b810c7d4411798c6938adc9daaa5    0.589805\n",
              "ae264e3637204a6fb9bb56bc8210ddfd    0.547209\n",
              "0b1e1539f2cc45b7b9fa7c272da2e1d7    0.503420\n",
              "4d5c57ea9a6940dd891ad53e9dbe8da0    0.502048\n",
              "3f207df678b143eea3cee63160fa8bed         NaN\n",
              "5a8bc65990b245e5a138643cd4eb9837         NaN\n",
              "dtype: float64"
            ]
          },
          "execution_count": 36,
          "metadata": {},
          "output_type": "execute_result"
        }
      ],
      "source": [
        "(offers['number of completions']/offers['number of times received']).sort_values(ascending=False).head(10)"
      ]
    },
    {
      "cell_type": "code",
      "execution_count": null,
      "metadata": {
        "datalore": {
          "hide_input_from_viewers": true,
          "hide_output_from_viewers": true,
          "node_id": "iD2FfFHrRw68EwJ6AaJfHz",
          "type": "CODE"
        },
        "id": "BE1f9G_AbPeG",
        "outputId": "c3c13126-81b7-403d-da6f-b7a609e0e7a9"
      },
      "outputs": [
        {
          "data": {
            "text/plain": [
              "(array([0, 1, 2, 3, 4, 5, 6, 7, 8, 9]),\n",
              " [Text(0, 0, 'ae264e3637204a6fb9bb56bc8210ddfd'),\n",
              "  Text(1, 0, '4d5c57ea9a6940dd891ad53e9dbe8da0'),\n",
              "  Text(2, 0, '3f207df678b143eea3cee63160fa8bed'),\n",
              "  Text(3, 0, '9b98b8c7a33c4b65b9aebfe6a799e6d9'),\n",
              "  Text(4, 0, '0b1e1539f2cc45b7b9fa7c272da2e1d7'),\n",
              "  Text(5, 0, '2298d6c36e964ae4a3e7e9706d1fb8c2'),\n",
              "  Text(6, 0, 'fafdcd668e3743c1bb461111dcafc2a4'),\n",
              "  Text(7, 0, '5a8bc65990b245e5a138643cd4eb9837'),\n",
              "  Text(8, 0, 'f19421c1d4aa40978ebb69ca19b0e20d'),\n",
              "  Text(9, 0, '2906b810c7d4411798c6938adc9daaa5')])"
            ]
          },
          "execution_count": 37,
          "metadata": {},
          "output_type": "execute_result"
        },
        {
          "data": {
            "image/png": "[encoded data removed]",
            "text/plain": [
              "<Figure size 432x288 with 1 Axes>"
            ]
          },
          "metadata": {
            "needs_background": "light"
          },
          "output_type": "display_data"
        }
      ],
      "source": [
        "sns.barplot(data = offers.reset_index(), x='id',y='number of completions')\n",
        "plt.xticks(rotation = 'vertical')"
      ]
    },
    {
      "cell_type": "markdown",
      "metadata": {
        "datalore": {
          "hide_input_from_viewers": true,
          "hide_output_from_viewers": true,
          "node_id": "djbdn7phkxCYAVPz32mPwC",
          "type": "MD"
        },
        "id": "3ceUYtV7bPeG"
      },
      "source": [
        "### Are customers who complete the most offers the most profitable ones for the company?"
      ]
    },
    {
      "cell_type": "code",
      "execution_count": null,
      "metadata": {
        "datalore": {
          "hide_input_from_viewers": true,
          "hide_output_from_viewers": true,
          "node_id": "rjGZdj9IzM9fFLCkRpBezn",
          "type": "CODE"
        },
        "id": "KW_CxfDzbPeH",
        "outputId": "cd09f988-0ed0-4d9e-92c0-cf2ecd162105"
      },
      "outputs": [
        {
          "data": {
            "text/plain": [
              "array([[1.        , 0.43403905],\n",
              "       [0.43403905, 1.        ]])"
            ]
          },
          "execution_count": 38,
          "metadata": {},
          "output_type": "execute_result"
        }
      ],
      "source": [
        "np.corrcoef(user_offers['transactions sum'], user_offers['offer completed'])"
      ]
    },
    {
      "cell_type": "markdown",
      "metadata": {
        "datalore": {
          "hide_input_from_viewers": true,
          "hide_output_from_viewers": true,
          "node_id": "8Oi3skUojQmQHmpDg2tpAC",
          "type": "MD"
        },
        "id": "9_-DE3y3bPeH"
      },
      "source": [
        "### Do customers who receive less offers are less profitable?"
      ]
    },
    {
      "cell_type": "code",
      "execution_count": null,
      "metadata": {
        "datalore": {
          "hide_input_from_viewers": true,
          "hide_output_from_viewers": true,
          "node_id": "bHNTp5zpfctfJFjnTKQEsZ",
          "type": "CODE"
        },
        "id": "XMHIhEuhbPeH",
        "outputId": "135d07ef-284a-4da4-8a16-db5d4eac93fe"
      },
      "outputs": [
        {
          "data": {
            "text/plain": [
              "array([[1.       , 0.0779909],\n",
              "       [0.0779909, 1.       ]])"
            ]
          },
          "execution_count": 39,
          "metadata": {},
          "output_type": "execute_result"
        }
      ],
      "source": [
        "\n",
        "np.corrcoef(user_offers['transactions sum'], user_offers['offer received'])"
      ]
    },
    {
      "cell_type": "markdown",
      "metadata": {
        "datalore": {
          "hide_input_from_viewers": false,
          "hide_output_from_viewers": false,
          "node_id": "bSuGN2yQsEkNCtPKYNPcZD",
          "report_properties": {},
          "type": "MD"
        },
        "id": "j2CvgZ4QbPeH"
      },
      "source": [
        "# Clustering and frequent items analysis"
      ]
    },
    {
      "cell_type": "markdown",
      "metadata": {
        "datalore": {
          "hide_input_from_viewers": false,
          "hide_output_from_viewers": false,
          "node_id": "wRulDjd33j7Y1KTvwrEQxA",
          "report_properties": {},
          "type": "MD"
        },
        "id": "SBxuRE55bPeH"
      },
      "source": [
        "3 different tables to do clustering on:\n",
        "- person characteristics: use \"users\"\n",
        "- number of transactions: \"user_trans\"\n",
        "- offers: \"user_offers\""
      ]
    },
    {
      "cell_type": "markdown",
      "metadata": {
        "datalore": {
          "hide_input_from_viewers": false,
          "hide_output_from_viewers": false,
          "node_id": "vRVAHH6PzFGvvRS7gEprC7",
          "report_properties": {},
          "type": "MD"
        },
        "id": "7reRiGT6bPeH"
      },
      "source": [
        "### K-means"
      ]
    },
    {
      "cell_type": "markdown",
      "metadata": {
        "datalore": {
          "hide_input_from_viewers": false,
          "hide_output_from_viewers": false,
          "node_id": "lU8e4lzqE1WcInozpnFHB8",
          "report_properties": {},
          "type": "MD"
        },
        "id": "B0EwjANmbPeH"
      },
      "source": [
        "First trial with the user data: age vs n_transactions"
      ]
    },
    {
      "cell_type": "code",
      "execution_count": null,
      "metadata": {
        "datalore": {
          "hide_input_from_viewers": false,
          "hide_output_from_viewers": false,
          "node_id": "EWvB8S6W1Ibdnm10F7YOCi",
          "report_properties": {},
          "type": "CODE"
        },
        "id": "v2c9JXWfbPeI",
        "outputId": "671ed45e-5257-4ab2-ce0d-1235e77c3ad8"
      },
      "outputs": [
        {
          "data": {
            "image/png": "[encoded data removed]",
            "text/plain": [
              "<Figure size 432x288 with 1 Axes>"
            ]
          },
          "metadata": {
            "needs_background": "light"
          },
          "output_type": "display_data"
        }
      ],
      "source": [
        "x = user_offers[['age','n_transactions']].dropna()['age']\n",
        "y = user_offers[['age','n_transactions']].dropna()['n_transactions']\n",
        "\n",
        "plt.scatter(x,y)\n",
        "plt.show()\n"
      ]
    },
    {
      "cell_type": "code",
      "execution_count": null,
      "metadata": {
        "datalore": {
          "hide_input_from_viewers": false,
          "hide_output_from_viewers": false,
          "node_id": "JdXTDiGS7pMh9Q6ccuqpGn",
          "report_properties": {},
          "type": "CODE"
        },
        "id": "QIkQsGtrbPeI",
        "outputId": "13d533aa-098e-49f0-9804-661a86321d8f"
      },
      "outputs": [
        {
          "data": {
            "image/png": "[encoded data removed]",
            "text/plain": [
              "<Figure size 432x288 with 1 Axes>"
            ]
          },
          "metadata": {
            "needs_background": "light"
          },
          "output_type": "display_data"
        }
      ],
      "source": [
        "#USE ELBOW METHOD TO DETERMINE NUMBER OF CLUSTERS IN A DATA SET\n",
        "xy = list(zip(x,y))\n",
        "inertias = []\n",
        "\n",
        "for i in range(1,11):\n",
        "    kmeans = KMeans(n_clusters=i)\n",
        "    kmeans.fit(xy)\n",
        "    inertias.append(kmeans.inertia_)\n",
        "\n",
        "plt.plot(range(1,11),inertias,marker='o')\n",
        "plt.title('Elbow method')\n",
        "plt.xlabel('Number of clusters')\n",
        "plt.ylabel('Inertia')\n",
        "plt.show()\n"
      ]
    },
    {
      "cell_type": "code",
      "execution_count": null,
      "metadata": {
        "datalore": {
          "hide_input_from_viewers": false,
          "hide_output_from_viewers": false,
          "node_id": "CDXSCDdXlNBeq41dHrAnNi",
          "report_properties": {},
          "type": "CODE"
        },
        "id": "PsJiNic8bPeI",
        "outputId": "72bf0db8-8d6b-44c6-b07a-802ba6b265a7"
      },
      "outputs": [
        {
          "data": {
            "image/png": "[encoded data removed]",
            "text/plain": [
              "<Figure size 432x288 with 1 Axes>"
            ]
          },
          "metadata": {
            "needs_background": "light"
          },
          "output_type": "display_data"
        }
      ],
      "source": [
        "#THE PREVIOUS METHOD SHOWS THE APPROPRIATE NUMBER OF CLUSTERS.\n",
        "\n",
        "kmeans = KMeans(n_clusters=2)\n",
        "kmeans.fit(xy)\n",
        "plt.scatter(x,y, c=kmeans.labels_,s=0.1)\n",
        "plt.title('KMeans K=2')\n",
        "plt.xlabel('age')\n",
        "plt.ylabel('n_transactions')\n",
        "plt.show()"
      ]
    },
    {
      "cell_type": "markdown",
      "metadata": {
        "datalore": {
          "hide_input_from_viewers": false,
          "hide_output_from_viewers": false,
          "node_id": "PE6zqyBkVsGcxZi7OUIdMj",
          "report_properties": {},
          "type": "MD"
        },
        "id": "-CtBl9PQbPeI"
      },
      "source": [
        "Second trial with the age and income"
      ]
    },
    {
      "cell_type": "code",
      "execution_count": null,
      "metadata": {
        "datalore": {
          "hide_input_from_viewers": false,
          "hide_output_from_viewers": false,
          "node_id": "3Gc2QDbeG7Wvq9ewyco6UO",
          "report_properties": {},
          "type": "CODE"
        },
        "id": "ALWaQ236bPeI",
        "outputId": "bb23df42-2dbf-49ef-d634-4eb26e4360be"
      },
      "outputs": [
        {
          "data": {
            "image/png": "[encoded data removed]",
            "text/plain": [
              "<Figure size 432x288 with 1 Axes>"
            ]
          },
          "metadata": {
            "needs_background": "light"
          },
          "output_type": "display_data"
        }
      ],
      "source": [
        "x = user_offers['age']\n",
        "y = user_offers['rate(%)']\n",
        "\n",
        "plt.scatter(x,y)\n",
        "plt.show()"
      ]
    },
    {
      "cell_type": "markdown",
      "metadata": {
        "datalore": {
          "hide_input_from_viewers": false,
          "hide_output_from_viewers": false,
          "node_id": "1KMlZF6OcmNO2rxN4zCr3Z",
          "report_properties": {},
          "type": "MD"
        },
        "id": "dEtyvc7UbPeJ"
      },
      "source": [
        "age and time to offer completion"
      ]
    },
    {
      "cell_type": "code",
      "execution_count": null,
      "metadata": {
        "datalore": {
          "hide_input_from_viewers": false,
          "hide_output_from_viewers": false,
          "node_id": "E2TMGOX5yZhDbrymbbuTZ5",
          "report_properties": {},
          "type": "CODE"
        },
        "id": "NR7J6i33bPeJ",
        "outputId": "9b83442b-5632-4cda-e43f-14f3a16b04b7"
      },
      "outputs": [
        {
          "data": {
            "image/png": "[encoded data removed]",
            "text/plain": [
              "<Figure size 432x288 with 1 Axes>"
            ]
          },
          "metadata": {
            "needs_background": "light"
          },
          "output_type": "display_data"
        }
      ],
      "source": [
        "x = user_offers['age']\n",
        "y = user_offers['time to offer completion avg']\n",
        "xy = list(zip(x,y))\n",
        "\n",
        "kmeans_time = KMeans(n_clusters=2)\n",
        "kmeans_time.fit(xy)\n",
        "plt.scatter(x,y, c=kmeans_time.labels_)\n",
        "plt.title('KMeans K=2')\n",
        "plt.xlabel('age')\n",
        "plt.ylabel('time to offer completion avg')\n",
        "plt.show()"
      ]
    },
    {
      "cell_type": "markdown",
      "metadata": {
        "id": "hZgWFVBhbPeJ"
      },
      "source": [
        "Income and age versus profit from customer"
      ]
    },
    {
      "cell_type": "code",
      "execution_count": null,
      "metadata": {
        "datalore": {
          "hide_input_from_viewers": false,
          "hide_output_from_viewers": false,
          "node_id": "uEXKi8c4TqTcTPjNiAmg1U",
          "report_properties": {},
          "type": "CODE"
        },
        "id": "yhPxrErMbPeJ",
        "outputId": "18e99a9e-3811-4f74-84a0-4babc204d7dc"
      },
      "outputs": [
        {
          "data": {
            "text/plain": [
              "KMeans(n_clusters=2)"
            ]
          },
          "execution_count": 50,
          "metadata": {},
          "output_type": "execute_result"
        }
      ],
      "source": [
        "x = user_offers[['income','age']]\n",
        "y = user_offers['profit from offers sum'] # + user_offers['transactions sum']\n",
        "xy = user_offers[['income','age','profit from offers sum']].to_numpy()\n",
        "kmeans2 = KMeans(n_clusters=2)\n",
        "kmeans2.fit(xy)"
      ]
    },
    {
      "cell_type": "code",
      "execution_count": null,
      "metadata": {
        "datalore": {
          "hide_input_from_viewers": false,
          "hide_output_from_viewers": false,
          "node_id": "a1NGjGZBOK8umMB9sqM4Je",
          "report_properties": {},
          "type": "CODE"
        },
        "id": "W0ofGrCLbPeJ",
        "outputId": "8d49a79a-094c-4335-9840-4d45240ec0a6"
      },
      "outputs": [
        {
          "data": {
            "image/png": "[encoded data removed]",
            "text/plain": [
              "<Figure size 432x288 with 1 Axes>"
            ]
          },
          "metadata": {
            "needs_background": "light"
          },
          "output_type": "display_data"
        }
      ],
      "source": [
        "fig = plt.figure()\n",
        "ax = fig.add_subplot(projection='3d')\n",
        "\n",
        "ax.scatter(x['income'],x['age'],y, c=kmeans2.labels_)\n",
        "\n",
        "plt.title('KMeans K=2')\n",
        "ax.set_xlabel('Income')\n",
        "ax.set_ylabel('Age')\n",
        "ax.set_zlabel('Sum of profit from offers')\n",
        "plt.show()"
      ]
    },
    {
      "cell_type": "markdown",
      "metadata": {
        "datalore": {
          "hide_input_from_viewers": false,
          "hide_output_from_viewers": false,
          "node_id": "mJal0A5nrvmiZmkat0Kgme",
          "report_properties": {},
          "type": "MD"
        },
        "id": "N3XpngwqbPeK"
      },
      "source": [
        "### DBscan"
      ]
    },
    {
      "cell_type": "markdown",
      "metadata": {
        "datalore": {
          "hide_input_from_viewers": true,
          "hide_output_from_viewers": true,
          "node_id": "g0GbhDZSZ8RX3UvOUPpzkh",
          "type": "MD"
        },
        "id": "5DXeD2-6bPeK"
      },
      "source": [
        "#### Implementation"
      ]
    },
    {
      "cell_type": "code",
      "execution_count": null,
      "metadata": {
        "datalore": {
          "hide_input_from_viewers": false,
          "hide_output_from_viewers": false,
          "node_id": "mT94oq1kYp8hdDBZUR38A3",
          "report_properties": {},
          "type": "CODE"
        },
        "id": "aufspY2fbPeK"
      },
      "outputs": [],
      "source": [
        "def get_neighbors(eps, d, idx, point_tree):\n",
        "    dimensions = list(d.iloc[idx])\n",
        "\n",
        "    neighbors = point_tree.query_ball_point(dimensions, eps)\n",
        "    neighbors.remove(idx)\n",
        "\n",
        "    return neighbors"
      ]
    },
    {
      "cell_type": "code",
      "execution_count": null,
      "metadata": {
        "datalore": {
          "hide_input_from_viewers": true,
          "hide_output_from_viewers": true,
          "node_id": "yTg7EelLJKmg4S2789Kax1",
          "type": "CODE"
        },
        "id": "bG2lMTSSbPeK"
      },
      "outputs": [],
      "source": [
        "def dbscan(eps, min_samples, d: pd.DataFrame):\n",
        "    # List to keep track points unvisited so far\n",
        "    unvisited = [i for i in range(len(d))]\n",
        "    # All points start as noise\n",
        "    dbscan_labels = [-1 for _ in range(len(unvisited))]\n",
        "\n",
        "    # K-Dimensional tree of points\n",
        "    point_tree = spatial.cKDTree(d)\n",
        "    # List of neighbors per point withing given epsilon\n",
        "    neighbors = []\n",
        "    # List of core points\n",
        "    cores = []\n",
        "    # Filling in lists of neighbors and core points\n",
        "    for i in range(len(unvisited)):\n",
        "        current_neighbors = get_neighbors(eps, d, i, point_tree)\n",
        "        neighbors.append(current_neighbors)\n",
        "        if len(current_neighbors) > min_samples:\n",
        "            cores.append(i)\n",
        "\n",
        "    cluster_number = 1\n",
        "    frontier = set()\n",
        "\n",
        "    while cores:\n",
        "        # Appending an index of a random unvisited core point to the frontier to begin with\n",
        "        frontier.add(random.choice(cores))\n",
        "\n",
        "        while frontier:\n",
        "            curr_point_idx = frontier.pop()\n",
        "            unvisited.remove(curr_point_idx)\n",
        "            dbscan_labels[curr_point_idx] = cluster_number\n",
        "\n",
        "            if curr_point_idx in cores:\n",
        "                cores.remove(curr_point_idx)\n",
        "                frontier.update([n for n in neighbors[curr_point_idx] if n in unvisited])\n",
        "\n",
        "            # if it's not core then we continue but without expanding frontier, as it has to be a border, no option that it's noise!\n",
        "        cluster_number += 1\n",
        "\n",
        "    return dbscan_labels"
      ]
    },
    {
      "cell_type": "markdown",
      "metadata": {
        "datalore": {
          "hide_input_from_viewers": true,
          "hide_output_from_viewers": true,
          "node_id": "sGBdWlQKoyVl7xry8pMN1y",
          "type": "MD"
        },
        "id": "Ern8yRCpbPeK"
      },
      "source": [
        "#### Usage"
      ]
    },
    {
      "cell_type": "markdown",
      "metadata": {
        "datalore": {
          "hide_input_from_viewers": true,
          "hide_output_from_viewers": true,
          "node_id": "XUWIAoaipXPTNCje5fap2N",
          "type": "MD"
        },
        "id": "TIa-gCJrbPeK"
      },
      "source": [
        "##### Age vs Number of transactions"
      ]
    },
    {
      "cell_type": "code",
      "execution_count": null,
      "metadata": {
        "datalore": {
          "hide_input_from_viewers": true,
          "hide_output_from_viewers": true,
          "node_id": "pGqEOG54xIFNKZbpk6cNi8",
          "type": "CODE"
        },
        "id": "nXnVn8ymbPeK",
        "outputId": "d4e32916-1f53-48b5-a15d-0e950c4676f1"
      },
      "outputs": [
        {
          "data": {
            "image/png": "[encoded data removed]",
            "text/plain": [
              "<Figure size 432x288 with 1 Axes>"
            ]
          },
          "metadata": {
            "needs_background": "light"
          },
          "output_type": "display_data"
        }
      ],
      "source": [
        "labels = dbscan(1, 30, user_offers[['age', 'n_transactions']])\n",
        "\n",
        "plt.scatter(x=user_offers['age'], y=user_offers['n_transactions'], c=labels)\n",
        "plt.title('DBSCAN eps=1, min_samples=30')\n",
        "plt.xlabel('Age')\n",
        "plt.ylabel('Number of transactions')\n",
        "plt.show()"
      ]
    },
    {
      "cell_type": "markdown",
      "metadata": {
        "datalore": {
          "hide_input_from_viewers": true,
          "hide_output_from_viewers": true,
          "node_id": "qQHRDJNpvfEvtJHrhCMjoo",
          "type": "MD"
        },
        "id": "RYCRwSqabPeL"
      },
      "source": [
        "##### Age vs Time to offer completion"
      ]
    },
    {
      "cell_type": "code",
      "execution_count": null,
      "metadata": {
        "datalore": {
          "hide_input_from_viewers": true,
          "hide_output_from_viewers": true,
          "node_id": "T1V8fkSrsEo9ZXt1FuRxg3",
          "type": "CODE"
        },
        "id": "tQRPGZRsbPeL",
        "outputId": "d83a53e0-bbbf-4a56-c1fb-0233b96ef85d"
      },
      "outputs": [
        {
          "data": {
            "image/png": "[encoded data removed]",
            "text/plain": [
              "<Figure size 432x288 with 1 Axes>"
            ]
          },
          "metadata": {
            "needs_background": "light"
          },
          "output_type": "display_data"
        }
      ],
      "source": [
        "labels = dbscan(3,80, user_offers[['age', 'time to offer completion avg']])\n",
        "\n",
        "plt.scatter(x=user_offers['age'], y=user_offers['time to offer completion avg'], c=labels)\n",
        "plt.title('DBSCAN eps=3, min_samples=80')\n",
        "plt.xlabel('Age')\n",
        "plt.ylabel('Time to offer completion')\n",
        "plt.show()"
      ]
    },
    {
      "cell_type": "markdown",
      "metadata": {
        "datalore": {
          "hide_input_from_viewers": true,
          "hide_output_from_viewers": true,
          "node_id": "0VuyhKFhFWyMpA7XnkkDo4",
          "type": "MD"
        },
        "id": "MGulSKk3bPeL"
      },
      "source": [
        "##### Age vs Number of transactions vs Sum of profit from offers"
      ]
    },
    {
      "cell_type": "code",
      "execution_count": null,
      "metadata": {
        "datalore": {
          "hide_input_from_viewers": true,
          "hide_output_from_viewers": true,
          "node_id": "fBpjPX22cg2nbewx3GG7GO",
          "type": "CODE"
        },
        "id": "w3paYMN5bPeL",
        "outputId": "9c3b2709-3caa-453f-a2aa-c482a322ff67"
      },
      "outputs": [
        {
          "data": {
            "image/png": "[encoded data removed]",
            "text/plain": [
              "<Figure size 432x288 with 1 Axes>"
            ]
          },
          "metadata": {
            "needs_background": "light"
          },
          "output_type": "display_data"
        }
      ],
      "source": [
        "labels = dbscan(4, 200, user_offers[['age', 'n_transactions', 'profit from offers sum']])\n",
        "\n",
        "fig = plt.figure()\n",
        "ax = fig.add_subplot(projection='3d')\n",
        "ax.scatter(user_offers['age'], user_offers['n_transactions'], user_offers['profit from offers sum'], c=labels)\n",
        "plt.title('DBSCAN eps=4, min_samples=200')\n",
        "ax.set_xlabel('Age')\n",
        "ax.set_ylabel('Time to offer completion')\n",
        "ax.set_zlabel('Sum of profit from offers')\n",
        "plt.show()"
      ]
    },
    {
      "cell_type": "markdown",
      "metadata": {
        "datalore": {
          "hide_input_from_viewers": false,
          "hide_output_from_viewers": false,
          "node_id": "dVZ3x6q8wR8u29npbCevqr",
          "report_properties": {},
          "type": "MD"
        },
        "id": "5Yru1Q3SbPeL"
      },
      "source": [
        "### Frequent items - Apriori algorithm\n",
        "\n",
        "http://rasbt.github.io/mlxtend/user_guide/frequent_patterns/apriori/"
      ]
    },
    {
      "cell_type": "code",
      "execution_count": null,
      "metadata": {
        "datalore": {
          "hide_input_from_viewers": false,
          "hide_output_from_viewers": false,
          "node_id": "btagedYaYpWGcx6DD4xSNg",
          "report_properties": {},
          "type": "CODE"
        },
        "id": "Ft7ThZQBbPeL"
      },
      "outputs": [],
      "source": [
        "data_fr_items = data[data['event']=='offer completed'][['person','offer_id']].groupby(['person'], as_index=False).agg({'offer_id': ','.join})\n",
        "fr_items = data_fr_items.iloc[:,1].tolist()"
      ]
    },
    {
      "cell_type": "code",
      "execution_count": null,
      "metadata": {
        "datalore": {
          "hide_input_from_viewers": false,
          "hide_output_from_viewers": false,
          "node_id": "gtIPK3CZoR7tbZUGvZVUcY",
          "report_properties": {},
          "type": "CODE"
        },
        "id": "Ts8i9yGvbPeL",
        "outputId": "b3a75cfd-ef7b-48bc-9718-132df6e6af7a"
      },
      "outputs": [
        {
          "data": {
            "text/html": [
              "<div>\n",
              "<style scoped>\n",
              "    .dataframe tbody tr th:only-of-type {\n",
              "        vertical-align: middle;\n",
              "    }\n",
              "\n",
              "    .dataframe tbody tr th {\n",
              "        vertical-align: top;\n",
              "    }\n",
              "\n",
              "    .dataframe thead th {\n",
              "        text-align: right;\n",
              "    }\n",
              "</style>\n",
              "<table border=\"1\" class=\"dataframe\">\n",
              "  <thead>\n",
              "    <tr style=\"text-align: right;\">\n",
              "      <th></th>\n",
              "      <th>0b1e1539f2cc45b7b9fa7c272da2e1d7</th>\n",
              "      <th>2298d6c36e964ae4a3e7e9706d1fb8c2</th>\n",
              "      <th>2906b810c7d4411798c6938adc9daaa5</th>\n",
              "      <th>4d5c57ea9a6940dd891ad53e9dbe8da0</th>\n",
              "      <th>9b98b8c7a33c4b65b9aebfe6a799e6d9</th>\n",
              "      <th>ae264e3637204a6fb9bb56bc8210ddfd</th>\n",
              "      <th>f19421c1d4aa40978ebb69ca19b0e20d</th>\n",
              "      <th>fafdcd668e3743c1bb461111dcafc2a4</th>\n",
              "    </tr>\n",
              "  </thead>\n",
              "  <tbody>\n",
              "    <tr>\n",
              "      <th>0</th>\n",
              "      <td>False</td>\n",
              "      <td>False</td>\n",
              "      <td>True</td>\n",
              "      <td>False</td>\n",
              "      <td>False</td>\n",
              "      <td>False</td>\n",
              "      <td>True</td>\n",
              "      <td>True</td>\n",
              "    </tr>\n",
              "    <tr>\n",
              "      <th>1</th>\n",
              "      <td>True</td>\n",
              "      <td>True</td>\n",
              "      <td>False</td>\n",
              "      <td>False</td>\n",
              "      <td>True</td>\n",
              "      <td>False</td>\n",
              "      <td>False</td>\n",
              "      <td>False</td>\n",
              "    </tr>\n",
              "    <tr>\n",
              "      <th>2</th>\n",
              "      <td>False</td>\n",
              "      <td>False</td>\n",
              "      <td>False</td>\n",
              "      <td>True</td>\n",
              "      <td>False</td>\n",
              "      <td>False</td>\n",
              "      <td>False</td>\n",
              "      <td>True</td>\n",
              "    </tr>\n",
              "    <tr>\n",
              "      <th>3</th>\n",
              "      <td>False</td>\n",
              "      <td>True</td>\n",
              "      <td>False</td>\n",
              "      <td>False</td>\n",
              "      <td>True</td>\n",
              "      <td>False</td>\n",
              "      <td>True</td>\n",
              "      <td>False</td>\n",
              "    </tr>\n",
              "    <tr>\n",
              "      <th>4</th>\n",
              "      <td>True</td>\n",
              "      <td>False</td>\n",
              "      <td>False</td>\n",
              "      <td>False</td>\n",
              "      <td>False</td>\n",
              "      <td>False</td>\n",
              "      <td>False</td>\n",
              "      <td>True</td>\n",
              "    </tr>\n",
              "  </tbody>\n",
              "</table>\n",
              "</div>"
            ],
            "text/plain": [
              "   0b1e1539f2cc45b7b9fa7c272da2e1d7  2298d6c36e964ae4a3e7e9706d1fb8c2  \\\n",
              "0                             False                             False   \n",
              "1                              True                              True   \n",
              "2                             False                             False   \n",
              "3                             False                              True   \n",
              "4                              True                             False   \n",
              "\n",
              "   2906b810c7d4411798c6938adc9daaa5  4d5c57ea9a6940dd891ad53e9dbe8da0  \\\n",
              "0                              True                             False   \n",
              "1                             False                             False   \n",
              "2                             False                              True   \n",
              "3                             False                             False   \n",
              "4                             False                             False   \n",
              "\n",
              "   9b98b8c7a33c4b65b9aebfe6a799e6d9  ae264e3637204a6fb9bb56bc8210ddfd  \\\n",
              "0                             False                             False   \n",
              "1                              True                             False   \n",
              "2                             False                             False   \n",
              "3                              True                             False   \n",
              "4                             False                             False   \n",
              "\n",
              "   f19421c1d4aa40978ebb69ca19b0e20d  fafdcd668e3743c1bb461111dcafc2a4  \n",
              "0                              True                              True  \n",
              "1                             False                             False  \n",
              "2                             False                              True  \n",
              "3                              True                             False  \n",
              "4                             False                              True  "
            ]
          },
          "execution_count": 60,
          "metadata": {},
          "output_type": "execute_result"
        }
      ],
      "source": [
        "list_offer_id = [item.split(',') for item in fr_items]\n",
        "te = TransactionEncoder()\n",
        "te_ary = te.fit(list_offer_id).transform(list_offer_id)\n",
        "items = pd.DataFrame(te_ary, columns=te.columns_)\n",
        "items.head()"
      ]
    },
    {
      "cell_type": "code",
      "execution_count": null,
      "metadata": {
        "datalore": {
          "hide_input_from_viewers": true,
          "hide_output_from_viewers": true,
          "node_id": "TgKQTItS2ppLWvRCRA5KQs",
          "type": "CODE"
        },
        "id": "GXi1OUUQbPeM"
      },
      "outputs": [],
      "source": [
        "#create a disctionary with keys 1 - 8 and values items.columns\n",
        "dict_items = dict(zip(items.columns,range(1,9)))"
      ]
    },
    {
      "cell_type": "code",
      "execution_count": null,
      "metadata": {
        "datalore": {
          "hide_input_from_viewers": true,
          "hide_output_from_viewers": true,
          "node_id": "YYahf0wgGsMtJYH8Dck6Y8",
          "type": "CODE"
        },
        "id": "-ozOuW4BbPeM"
      },
      "outputs": [],
      "source": [
        "table = items.head(5)\n",
        "#pd.DataFrame(table).to_latex(index=False)"
      ]
    },
    {
      "cell_type": "code",
      "execution_count": null,
      "metadata": {
        "datalore": {
          "hide_input_from_viewers": false,
          "hide_output_from_viewers": false,
          "node_id": "HNuOuUkLodpzkxMez1Cgpg",
          "report_properties": {},
          "type": "CODE"
        },
        "id": "o01zHFPpbPeM"
      },
      "outputs": [],
      "source": [
        "supports = apriori(items, min_support=0.01, use_colnames=True)"
      ]
    },
    {
      "cell_type": "code",
      "execution_count": null,
      "metadata": {
        "datalore": {
          "hide_input_from_viewers": false,
          "hide_output_from_viewers": false,
          "node_id": "I898T7Zz3JjhHYlEDkQLjs",
          "report_properties": {},
          "type": "CODE"
        },
        "id": "KFPRJXqGbPeM"
      },
      "outputs": [],
      "source": [
        "t = supports.sort_values(by='support', ascending=False).head(15)"
      ]
    },
    {
      "cell_type": "code",
      "execution_count": null,
      "metadata": {
        "datalore": {
          "hide_input_from_viewers": true,
          "hide_output_from_viewers": true,
          "node_id": "N0zQ3Ab2QbWeI5vSJwxMBk",
          "type": "CODE"
        },
        "id": "Isdga0GHbPeM"
      },
      "outputs": [],
      "source": [
        "#pd.DataFrame(t).to_latex(index=False)"
      ]
    },
    {
      "cell_type": "markdown",
      "metadata": {
        "datalore": {
          "hide_input_from_viewers": true,
          "hide_output_from_viewers": true,
          "node_id": "aodgGKuWzDnV4ZxolqSG5v",
          "type": "MD"
        },
        "id": "SuPsCLlEbPeM"
      },
      "source": [
        "## Frequent Items - Frequent Pattern (FP) Growth Algorithm"
      ]
    },
    {
      "cell_type": "code",
      "execution_count": null,
      "metadata": {
        "datalore": {
          "hide_input_from_viewers": true,
          "hide_output_from_viewers": true,
          "node_id": "6yK8FKiloAt56z8brJApMB",
          "type": "CODE"
        },
        "id": "FzXWWs74bPeN"
      },
      "outputs": [],
      "source": [
        "data_fr_items2 = df[df['event']=='offer completed'][['person','offer_id']].groupby(['person'], as_index=False).agg({'offer_id': ','.join})\n",
        "fr_items2 = data_fr_items2.iloc[:,1].tolist()"
      ]
    },
    {
      "cell_type": "code",
      "execution_count": null,
      "metadata": {
        "datalore": {
          "hide_input_from_viewers": true,
          "hide_output_from_viewers": true,
          "node_id": "L3tkN4nM72UvwQXIVGfzz7",
          "type": "CODE"
        },
        "id": "jxf9sLhnbPeN",
        "outputId": "f0e1efd6-7fc7-41ba-9a8f-7b8c201e86a8"
      },
      "outputs": [
        {
          "data": {
            "text/html": [
              "<div>\n",
              "<style scoped>\n",
              "    .dataframe tbody tr th:only-of-type {\n",
              "        vertical-align: middle;\n",
              "    }\n",
              "\n",
              "    .dataframe tbody tr th {\n",
              "        vertical-align: top;\n",
              "    }\n",
              "\n",
              "    .dataframe thead th {\n",
              "        text-align: right;\n",
              "    }\n",
              "</style>\n",
              "<table border=\"1\" class=\"dataframe\">\n",
              "  <thead>\n",
              "    <tr style=\"text-align: right;\">\n",
              "      <th></th>\n",
              "      <th>0b1e1539f2cc45b7b9fa7c272da2e1d7</th>\n",
              "      <th>2298d6c36e964ae4a3e7e9706d1fb8c2</th>\n",
              "      <th>2906b810c7d4411798c6938adc9daaa5</th>\n",
              "      <th>4d5c57ea9a6940dd891ad53e9dbe8da0</th>\n",
              "      <th>9b98b8c7a33c4b65b9aebfe6a799e6d9</th>\n",
              "      <th>ae264e3637204a6fb9bb56bc8210ddfd</th>\n",
              "      <th>f19421c1d4aa40978ebb69ca19b0e20d</th>\n",
              "      <th>fafdcd668e3743c1bb461111dcafc2a4</th>\n",
              "    </tr>\n",
              "  </thead>\n",
              "  <tbody>\n",
              "    <tr>\n",
              "      <th>0</th>\n",
              "      <td>False</td>\n",
              "      <td>False</td>\n",
              "      <td>True</td>\n",
              "      <td>False</td>\n",
              "      <td>False</td>\n",
              "      <td>False</td>\n",
              "      <td>True</td>\n",
              "      <td>True</td>\n",
              "    </tr>\n",
              "    <tr>\n",
              "      <th>1</th>\n",
              "      <td>True</td>\n",
              "      <td>True</td>\n",
              "      <td>False</td>\n",
              "      <td>False</td>\n",
              "      <td>True</td>\n",
              "      <td>False</td>\n",
              "      <td>False</td>\n",
              "      <td>False</td>\n",
              "    </tr>\n",
              "    <tr>\n",
              "      <th>2</th>\n",
              "      <td>False</td>\n",
              "      <td>False</td>\n",
              "      <td>False</td>\n",
              "      <td>True</td>\n",
              "      <td>False</td>\n",
              "      <td>False</td>\n",
              "      <td>False</td>\n",
              "      <td>True</td>\n",
              "    </tr>\n",
              "    <tr>\n",
              "      <th>3</th>\n",
              "      <td>False</td>\n",
              "      <td>True</td>\n",
              "      <td>False</td>\n",
              "      <td>False</td>\n",
              "      <td>True</td>\n",
              "      <td>False</td>\n",
              "      <td>True</td>\n",
              "      <td>False</td>\n",
              "    </tr>\n",
              "    <tr>\n",
              "      <th>4</th>\n",
              "      <td>True</td>\n",
              "      <td>False</td>\n",
              "      <td>False</td>\n",
              "      <td>False</td>\n",
              "      <td>False</td>\n",
              "      <td>False</td>\n",
              "      <td>False</td>\n",
              "      <td>True</td>\n",
              "    </tr>\n",
              "    <tr>\n",
              "      <th>...</th>\n",
              "      <td>...</td>\n",
              "      <td>...</td>\n",
              "      <td>...</td>\n",
              "      <td>...</td>\n",
              "      <td>...</td>\n",
              "      <td>...</td>\n",
              "      <td>...</td>\n",
              "      <td>...</td>\n",
              "    </tr>\n",
              "    <tr>\n",
              "      <th>11981</th>\n",
              "      <td>False</td>\n",
              "      <td>False</td>\n",
              "      <td>False</td>\n",
              "      <td>True</td>\n",
              "      <td>False</td>\n",
              "      <td>True</td>\n",
              "      <td>True</td>\n",
              "      <td>True</td>\n",
              "    </tr>\n",
              "    <tr>\n",
              "      <th>11982</th>\n",
              "      <td>False</td>\n",
              "      <td>False</td>\n",
              "      <td>True</td>\n",
              "      <td>False</td>\n",
              "      <td>True</td>\n",
              "      <td>False</td>\n",
              "      <td>False</td>\n",
              "      <td>True</td>\n",
              "    </tr>\n",
              "    <tr>\n",
              "      <th>11983</th>\n",
              "      <td>False</td>\n",
              "      <td>False</td>\n",
              "      <td>False</td>\n",
              "      <td>False</td>\n",
              "      <td>True</td>\n",
              "      <td>False</td>\n",
              "      <td>False</td>\n",
              "      <td>True</td>\n",
              "    </tr>\n",
              "    <tr>\n",
              "      <th>11984</th>\n",
              "      <td>False</td>\n",
              "      <td>False</td>\n",
              "      <td>False</td>\n",
              "      <td>False</td>\n",
              "      <td>True</td>\n",
              "      <td>False</td>\n",
              "      <td>True</td>\n",
              "      <td>False</td>\n",
              "    </tr>\n",
              "    <tr>\n",
              "      <th>11985</th>\n",
              "      <td>True</td>\n",
              "      <td>False</td>\n",
              "      <td>True</td>\n",
              "      <td>False</td>\n",
              "      <td>True</td>\n",
              "      <td>False</td>\n",
              "      <td>False</td>\n",
              "      <td>True</td>\n",
              "    </tr>\n",
              "  </tbody>\n",
              "</table>\n",
              "<p>11986 rows × 8 columns</p>\n",
              "</div>"
            ],
            "text/plain": [
              "       0b1e1539f2cc45b7b9fa7c272da2e1d7  2298d6c36e964ae4a3e7e9706d1fb8c2  \\\n",
              "0                                 False                             False   \n",
              "1                                  True                              True   \n",
              "2                                 False                             False   \n",
              "3                                 False                              True   \n",
              "4                                  True                             False   \n",
              "...                                 ...                               ...   \n",
              "11981                             False                             False   \n",
              "11982                             False                             False   \n",
              "11983                             False                             False   \n",
              "11984                             False                             False   \n",
              "11985                              True                             False   \n",
              "\n",
              "       2906b810c7d4411798c6938adc9daaa5  4d5c57ea9a6940dd891ad53e9dbe8da0  \\\n",
              "0                                  True                             False   \n",
              "1                                 False                             False   \n",
              "2                                 False                              True   \n",
              "3                                 False                             False   \n",
              "4                                 False                             False   \n",
              "...                                 ...                               ...   \n",
              "11981                             False                              True   \n",
              "11982                              True                             False   \n",
              "11983                             False                             False   \n",
              "11984                             False                             False   \n",
              "11985                              True                             False   \n",
              "\n",
              "       9b98b8c7a33c4b65b9aebfe6a799e6d9  ae264e3637204a6fb9bb56bc8210ddfd  \\\n",
              "0                                 False                             False   \n",
              "1                                  True                             False   \n",
              "2                                 False                             False   \n",
              "3                                  True                             False   \n",
              "4                                 False                             False   \n",
              "...                                 ...                               ...   \n",
              "11981                             False                              True   \n",
              "11982                              True                             False   \n",
              "11983                              True                             False   \n",
              "11984                              True                             False   \n",
              "11985                              True                             False   \n",
              "\n",
              "       f19421c1d4aa40978ebb69ca19b0e20d  fafdcd668e3743c1bb461111dcafc2a4  \n",
              "0                                  True                              True  \n",
              "1                                 False                             False  \n",
              "2                                 False                              True  \n",
              "3                                  True                             False  \n",
              "4                                 False                              True  \n",
              "...                                 ...                               ...  \n",
              "11981                              True                              True  \n",
              "11982                             False                              True  \n",
              "11983                             False                              True  \n",
              "11984                              True                             False  \n",
              "11985                             False                              True  \n",
              "\n",
              "[11986 rows x 8 columns]"
            ]
          },
          "execution_count": 70,
          "metadata": {},
          "output_type": "execute_result"
        }
      ],
      "source": [
        "list_offerid = [item.split(',') for item in fr_items2]\n",
        "\n",
        "# instantiating a transaction encoder\n",
        "fr_trasactionencoder = TransactionEncoder()\n",
        "\n",
        "# fitting the transaction encoder using the list of transaction tuples\n",
        "fr_trasactionencoder.fit(list_offerid)\n",
        "\n",
        "# transforming the list of transaction tuples into an array of encoded transactions\n",
        "fr_encodedtransactions = fr_trasactionencoder.transform(list_offerid)\n",
        "\n",
        "# converting the array of encoded transactions into a dataframe\n",
        "fr_encodedtransactions_df = pd.DataFrame(fr_encodedtransactions, columns=fr_trasactionencoder.columns_)\n",
        "fr_encodedtransactions_df"
      ]
    },
    {
      "cell_type": "code",
      "execution_count": null,
      "metadata": {
        "datalore": {
          "hide_input_from_viewers": true,
          "hide_output_from_viewers": true,
          "node_id": "JXI0kYwBgLZEk4vzP1rkks",
          "type": "CODE"
        },
        "id": "NAjf3Lv3bPeN",
        "outputId": "b6328494-3b3c-4453-ed0e-5db54918844e"
      },
      "outputs": [
        {
          "data": {
            "text/html": [
              "<div>\n",
              "<style scoped>\n",
              "    .dataframe tbody tr th:only-of-type {\n",
              "        vertical-align: middle;\n",
              "    }\n",
              "\n",
              "    .dataframe tbody tr th {\n",
              "        vertical-align: top;\n",
              "    }\n",
              "\n",
              "    .dataframe thead th {\n",
              "        text-align: right;\n",
              "    }\n",
              "</style>\n",
              "<table border=\"1\" class=\"dataframe\">\n",
              "  <thead>\n",
              "    <tr style=\"text-align: right;\">\n",
              "      <th></th>\n",
              "      <th>support</th>\n",
              "      <th>itemsets</th>\n",
              "    </tr>\n",
              "  </thead>\n",
              "  <tbody>\n",
              "    <tr>\n",
              "      <th>0</th>\n",
              "      <td>0.354413</td>\n",
              "      <td>(fafdcd668e3743c1bb461111dcafc2a4)</td>\n",
              "    </tr>\n",
              "    <tr>\n",
              "      <th>1</th>\n",
              "      <td>0.297180</td>\n",
              "      <td>(f19421c1d4aa40978ebb69ca19b0e20d)</td>\n",
              "    </tr>\n",
              "    <tr>\n",
              "      <th>2</th>\n",
              "      <td>0.282246</td>\n",
              "      <td>(2906b810c7d4411798c6938adc9daaa5)</td>\n",
              "    </tr>\n",
              "    <tr>\n",
              "      <th>3</th>\n",
              "      <td>0.347656</td>\n",
              "      <td>(2298d6c36e964ae4a3e7e9706d1fb8c2)</td>\n",
              "    </tr>\n",
              "    <tr>\n",
              "      <th>4</th>\n",
              "      <td>0.302603</td>\n",
              "      <td>(9b98b8c7a33c4b65b9aebfe6a799e6d9)</td>\n",
              "    </tr>\n",
              "    <tr>\n",
              "      <th>...</th>\n",
              "      <td>...</td>\n",
              "      <td>...</td>\n",
              "    </tr>\n",
              "    <tr>\n",
              "      <th>212</th>\n",
              "      <td>0.019272</td>\n",
              "      <td>(2298d6c36e964ae4a3e7e9706d1fb8c2, 9b98b8c7a33...</td>\n",
              "    </tr>\n",
              "    <tr>\n",
              "      <th>213</th>\n",
              "      <td>0.003921</td>\n",
              "      <td>(ae264e3637204a6fb9bb56bc8210ddfd, 9b98b8c7a33...</td>\n",
              "    </tr>\n",
              "    <tr>\n",
              "      <th>214</th>\n",
              "      <td>0.003504</td>\n",
              "      <td>(2298d6c36e964ae4a3e7e9706d1fb8c2, 9b98b8c7a33...</td>\n",
              "    </tr>\n",
              "    <tr>\n",
              "      <th>215</th>\n",
              "      <td>0.000584</td>\n",
              "      <td>(2298d6c36e964ae4a3e7e9706d1fb8c2, ae264e36372...</td>\n",
              "    </tr>\n",
              "    <tr>\n",
              "      <th>216</th>\n",
              "      <td>0.004088</td>\n",
              "      <td>(2298d6c36e964ae4a3e7e9706d1fb8c2, 9b98b8c7a33...</td>\n",
              "    </tr>\n",
              "  </tbody>\n",
              "</table>\n",
              "<p>217 rows × 2 columns</p>\n",
              "</div>"
            ],
            "text/plain": [
              "      support                                           itemsets\n",
              "0    0.354413                 (fafdcd668e3743c1bb461111dcafc2a4)\n",
              "1    0.297180                 (f19421c1d4aa40978ebb69ca19b0e20d)\n",
              "2    0.282246                 (2906b810c7d4411798c6938adc9daaa5)\n",
              "3    0.347656                 (2298d6c36e964ae4a3e7e9706d1fb8c2)\n",
              "4    0.302603                 (9b98b8c7a33c4b65b9aebfe6a799e6d9)\n",
              "..        ...                                                ...\n",
              "212  0.019272  (2298d6c36e964ae4a3e7e9706d1fb8c2, 9b98b8c7a33...\n",
              "213  0.003921  (ae264e3637204a6fb9bb56bc8210ddfd, 9b98b8c7a33...\n",
              "214  0.003504  (2298d6c36e964ae4a3e7e9706d1fb8c2, 9b98b8c7a33...\n",
              "215  0.000584  (2298d6c36e964ae4a3e7e9706d1fb8c2, ae264e36372...\n",
              "216  0.004088  (2298d6c36e964ae4a3e7e9706d1fb8c2, 9b98b8c7a33...\n",
              "\n",
              "[217 rows x 2 columns]"
            ]
          },
          "execution_count": 71,
          "metadata": {},
          "output_type": "execute_result"
        }
      ],
      "source": [
        "# our min support is 3, but it has to be expressed as a percentage for mlxtend\n",
        "min_support = 3/len(list_offerid)\n",
        "\n",
        "# computing the frequent itemsets using fpgriowth from mlxtend\n",
        "from mlxtend.frequent_patterns.fpgrowth import fpgrowth\n",
        "fpFrequent_itemsets = fpgrowth(fr_encodedtransactions_df, min_support=min_support, use_colnames = True)\n",
        "\n",
        "# printing the frequent itemsets\n",
        "fpFrequent_itemsets"
      ]
    },
    {
      "cell_type": "code",
      "execution_count": null,
      "metadata": {
        "datalore": {
          "hide_input_from_viewers": true,
          "hide_output_from_viewers": true,
          "node_id": "PcVXHi4iBrlljq8zr54T91",
          "type": "CODE"
        },
        "id": "4vlfT_zLbPeN",
        "outputId": "89292ffb-24a8-4f64-e2fd-2a7516a0c049"
      },
      "outputs": [
        {
          "data": {
            "text/html": [
              "<div>\n",
              "<style scoped>\n",
              "    .dataframe tbody tr th:only-of-type {\n",
              "        vertical-align: middle;\n",
              "    }\n",
              "\n",
              "    .dataframe tbody tr th {\n",
              "        vertical-align: top;\n",
              "    }\n",
              "\n",
              "    .dataframe thead th {\n",
              "        text-align: right;\n",
              "    }\n",
              "</style>\n",
              "<table border=\"1\" class=\"dataframe\">\n",
              "  <thead>\n",
              "    <tr style=\"text-align: right;\">\n",
              "      <th></th>\n",
              "      <th>antecedents</th>\n",
              "      <th>consequents</th>\n",
              "      <th>antecedent support</th>\n",
              "      <th>consequent support</th>\n",
              "      <th>support</th>\n",
              "      <th>confidence</th>\n",
              "      <th>lift</th>\n",
              "      <th>leverage</th>\n",
              "      <th>conviction</th>\n",
              "    </tr>\n",
              "  </thead>\n",
              "  <tbody>\n",
              "    <tr>\n",
              "      <th>0</th>\n",
              "      <td>(2906b810c7d4411798c6938adc9daaa5)</td>\n",
              "      <td>(fafdcd668e3743c1bb461111dcafc2a4)</td>\n",
              "      <td>0.282246</td>\n",
              "      <td>0.354413</td>\n",
              "      <td>0.087686</td>\n",
              "      <td>0.310671</td>\n",
              "      <td>0.876578</td>\n",
              "      <td>-0.012346</td>\n",
              "      <td>0.936543</td>\n",
              "    </tr>\n",
              "    <tr>\n",
              "      <th>1</th>\n",
              "      <td>(0b1e1539f2cc45b7b9fa7c272da2e1d7)</td>\n",
              "      <td>(2298d6c36e964ae4a3e7e9706d1fb8c2)</td>\n",
              "      <td>0.245620</td>\n",
              "      <td>0.347656</td>\n",
              "      <td>0.076339</td>\n",
              "      <td>0.310802</td>\n",
              "      <td>0.893993</td>\n",
              "      <td>-0.009052</td>\n",
              "      <td>0.946526</td>\n",
              "    </tr>\n",
              "    <tr>\n",
              "      <th>2</th>\n",
              "      <td>(0b1e1539f2cc45b7b9fa7c272da2e1d7)</td>\n",
              "      <td>(fafdcd668e3743c1bb461111dcafc2a4)</td>\n",
              "      <td>0.245620</td>\n",
              "      <td>0.354413</td>\n",
              "      <td>0.078425</td>\n",
              "      <td>0.319293</td>\n",
              "      <td>0.900907</td>\n",
              "      <td>-0.008626</td>\n",
              "      <td>0.948407</td>\n",
              "    </tr>\n",
              "    <tr>\n",
              "      <th>3</th>\n",
              "      <td>(4d5c57ea9a6940dd891ad53e9dbe8da0)</td>\n",
              "      <td>(fafdcd668e3743c1bb461111dcafc2a4)</td>\n",
              "      <td>0.239029</td>\n",
              "      <td>0.354413</td>\n",
              "      <td>0.073085</td>\n",
              "      <td>0.305759</td>\n",
              "      <td>0.862719</td>\n",
              "      <td>-0.011630</td>\n",
              "      <td>0.929917</td>\n",
              "    </tr>\n",
              "    <tr>\n",
              "      <th>4</th>\n",
              "      <td>(4d5c57ea9a6940dd891ad53e9dbe8da0)</td>\n",
              "      <td>(2298d6c36e964ae4a3e7e9706d1fb8c2)</td>\n",
              "      <td>0.239029</td>\n",
              "      <td>0.347656</td>\n",
              "      <td>0.072835</td>\n",
              "      <td>0.304712</td>\n",
              "      <td>0.876477</td>\n",
              "      <td>-0.010265</td>\n",
              "      <td>0.938236</td>\n",
              "    </tr>\n",
              "    <tr>\n",
              "      <th>5</th>\n",
              "      <td>(ae264e3637204a6fb9bb56bc8210ddfd)</td>\n",
              "      <td>(fafdcd668e3743c1bb461111dcafc2a4)</td>\n",
              "      <td>0.262473</td>\n",
              "      <td>0.354413</td>\n",
              "      <td>0.079927</td>\n",
              "      <td>0.304514</td>\n",
              "      <td>0.859205</td>\n",
              "      <td>-0.013097</td>\n",
              "      <td>0.928252</td>\n",
              "    </tr>\n",
              "  </tbody>\n",
              "</table>\n",
              "</div>"
            ],
            "text/plain": [
              "                          antecedents                         consequents  \\\n",
              "0  (2906b810c7d4411798c6938adc9daaa5)  (fafdcd668e3743c1bb461111dcafc2a4)   \n",
              "1  (0b1e1539f2cc45b7b9fa7c272da2e1d7)  (2298d6c36e964ae4a3e7e9706d1fb8c2)   \n",
              "2  (0b1e1539f2cc45b7b9fa7c272da2e1d7)  (fafdcd668e3743c1bb461111dcafc2a4)   \n",
              "3  (4d5c57ea9a6940dd891ad53e9dbe8da0)  (fafdcd668e3743c1bb461111dcafc2a4)   \n",
              "4  (4d5c57ea9a6940dd891ad53e9dbe8da0)  (2298d6c36e964ae4a3e7e9706d1fb8c2)   \n",
              "5  (ae264e3637204a6fb9bb56bc8210ddfd)  (fafdcd668e3743c1bb461111dcafc2a4)   \n",
              "\n",
              "   antecedent support  consequent support   support  confidence      lift  \\\n",
              "0            0.282246            0.354413  0.087686    0.310671  0.876578   \n",
              "1            0.245620            0.347656  0.076339    0.310802  0.893993   \n",
              "2            0.245620            0.354413  0.078425    0.319293  0.900907   \n",
              "3            0.239029            0.354413  0.073085    0.305759  0.862719   \n",
              "4            0.239029            0.347656  0.072835    0.304712  0.876477   \n",
              "5            0.262473            0.354413  0.079927    0.304514  0.859205   \n",
              "\n",
              "   leverage  conviction  \n",
              "0 -0.012346    0.936543  \n",
              "1 -0.009052    0.946526  \n",
              "2 -0.008626    0.948407  \n",
              "3 -0.011630    0.929917  \n",
              "4 -0.010265    0.938236  \n",
              "5 -0.013097    0.928252  "
            ]
          },
          "execution_count": 75,
          "metadata": {},
          "output_type": "execute_result"
        }
      ],
      "source": [
        "# computing and printing the association rules\n",
        "association_rules(fpFrequent_itemsets, metric=\"confidence\", min_threshold=0.3)"
      ]
    }
  ],
  "metadata": {
    "datalore": {
      "base_environment": "default",
      "computation_mode": "JUPYTER",
      "package_manager": "pip",
      "packages": [],
      "version": 1
    },
    "kernelspec": {
      "display_name": "Python 3.10.4 64-bit",
      "language": "python",
      "name": "python3"
    },
    "language_info": {
      "codemirror_mode": {
        "name": "ipython",
        "version": 3
      },
      "file_extension": ".py",
      "mimetype": "text/x-python",
      "name": "python",
      "nbconvert_exporter": "python",
      "pygments_lexer": "ipython3",
      "version": "3.10.4"
    },
    "vscode": {
      "interpreter": {
        "hash": "8cf821282c086fe9c2695e125d74c6f899549b2b4ee125029bfd5b2945bc0648"
      }
    },
    "colab": {
      "provenance": []
    }
  },
  "nbformat": 4,
  "nbformat_minor": 0
}